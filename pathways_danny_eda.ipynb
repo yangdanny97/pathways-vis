{
 "cells": [
  {
   "cell_type": "code",
   "execution_count": 1,
   "metadata": {
    "collapsed": true
   },
   "outputs": [],
   "source": [
    "import importlib\n",
    "import test_extract\n",
    "import graph\n",
    "importlib.reload(test_extract)\n",
    "importlib.reload(graph)\n",
    "import time\n",
    "import matplotlib.pyplot as plt"
   ]
  },
  {
   "cell_type": "code",
   "execution_count": 17,
   "metadata": {},
   "outputs": [
    {
     "name": "stdout",
     "output_type": "stream",
     "text": [
      "0.396024227142334\n"
     ]
    }
   ],
   "source": [
    "start = time.time()\n",
    "data = test_extract.Data(\"./data/CIS_enrollment.csv\", [\"Statistical Science\"])\n",
    "end = time.time()\n",
    "print(end - start)"
   ]
  },
  {
   "cell_type": "markdown",
   "metadata": {},
   "source": [
    "# Data model test"
   ]
  },
  {
   "cell_type": "code",
   "execution_count": 18,
   "metadata": {},
   "outputs": [
    {
     "data": {
      "text/plain": [
       "(1087, 218)"
      ]
     },
     "execution_count": 18,
     "metadata": {},
     "output_type": "execute_result"
    }
   ],
   "source": [
    "len(data.courses),len(data.students)"
   ]
  },
  {
   "cell_type": "code",
   "execution_count": 9,
   "metadata": {},
   "outputs": [
    {
     "name": "stdout",
     "output_type": "stream",
     "text": [
      "{'id': '2109188', 'major': 'Information Science', 'courses': ['Multivariable Calculus Engrs', 'Cooperative Workshop CHEM 2090', 'Intro to Cognitive Science', 'Data Struct & Functional Progr', 'Networks II: Market Design', 'Discrete Structures', 'Data-Driven Web Applications', 'Programming Practicum', 'Probability Models & Inference', 'Physics II: Electromagnetism', 'Engineering Seminar', 'Intro Computing Using Python', 'Operating Systems', 'Foundations of Artif Inllgnce', 'Prac in A I', 'Intro to Natural Lang Process', 'Physics I: Mechanics & Heat', 'Teams and Technology', 'Systems Programming', 'Information Retrieval', 'Engineering General Chemistry', 'Cooperative Workshop MATH 1920', 'Calculus For Engineers', 'Obj-Oriented Prog & Data Struc', 'Intro Microeconomics', 'Text Mining Hist & Literature', 'Networks', 'Intro Analysis of Algorithms', 'Engineering Communications', 'Bowling', 'Introduction To Sociology', 'Computing Cultures', 'Linear Algebra for Engineers', 'Archery', 'Earthquake!', 'Basic Engr Probability & Stats'], 'terms': [('ENGRG1009', (2013, 2)), ('CS4701', (2016, 2)), ('PE1300', (2013, 2)), ('CS4820', (2016, 0)), ('INFO3350', (2015, 2)), ('ENGRC3500', (2016, 2)), ('CS4700', (2016, 2)), ('CS1710', (2015, 0)), ('ENGRD2110', (2014, 0)), ('CS2800', (2014, 2)), ('INFO4430', (2016, 2)), ('MATH1910', (2013, 2)), ('BTRY3080', (2016, 2)), ('CS2850', (2014, 2)), ('PHYS1112', (2014, 0)), ('MATH2940', (2015, 0)), ('CS2111', (2014, 0)), ('SOC1101', (2016, 0)), ('CHEM2090', (2013, 2)), ('PE1520', (2016, 2)), ('ENGRG1092', (2014, 0)), ('CS4300', (2017, 0)), ('CS4740', (2015, 2)), ('MATH1920', (2014, 0)), ('ENGRG1050', (2013, 2)), ('PHYS2213', (2014, 2)), ('ENGRD2700', (2016, 0)), ('ECON1110', (2015, 2)), ('INFO3561', (2017, 0)), ('CS4852', (2016, 0)), ('CS4410', (2016, 2)), ('CS3110', (2015, 2)), ('CS3300', (2015, 0)), ('ENGRI1220', (2014, 0)), ('CS1110', (2013, 2)), ('CS3410', (2015, 0))], 'term_numbers': {'ENGRG1009': 1, 'PE1300': 1, 'MATH1910': 1, 'CHEM2090': 1, 'ENGRG1050': 1, 'CS1110': 1, 'ENGRD2110': 2, 'PHYS1112': 2, 'CS2111': 2, 'ENGRG1092': 2, 'MATH1920': 2, 'ENGRI1220': 2, 'CS2800': 3, 'CS2850': 3, 'PHYS2213': 3, 'CS1710': 4, 'MATH2940': 4, 'CS3300': 4, 'CS3410': 4, 'INFO3350': 5, 'CS4740': 5, 'ECON1110': 5, 'CS3110': 5, 'CS4820': 6, 'SOC1101': 6, 'ENGRD2700': 6, 'CS4852': 6, 'CS4701': 7, 'ENGRC3500': 7, 'CS4700': 7, 'INFO4430': 7, 'BTRY3080': 7, 'PE1520': 7, 'CS4410': 7, 'CS4300': 8, 'INFO3561': 8}}\n"
     ]
    }
   ],
   "source": [
    "print(list(data.students.values())[0])"
   ]
  },
  {
   "cell_type": "code",
   "execution_count": 10,
   "metadata": {},
   "outputs": [
    {
     "name": "stdout",
     "output_type": "stream",
     "text": [
      "{'id': '1790711', 'major': 'Information Science', 'courses': ['Introduction to Data Science', 'Obj-Oriented Prog & Data Struc', 'Beg/Int. Volleyball', 'Communication and Technology', 'Calculus II', 'Intro to Cognitive Science', 'Adv Human Computer Interaction', 'Our Solar System', 'Engineering in Reality', 'Intro Design & Prog for Web', 'Discrete Structures', 'Intro Bio:Ecol&the Environment', 'Mountain Biking', 'Beginning Snowboarding', 'Analytics-driven Game Design', 'Racquetball', 'Linear Algebra', 'Data-Driven Web Applications', 'Intro Computing Using Python', 'Information Retrieval', 'Human-Computer Interaction Des', 'Networks', 'Human Percept:Appl Comp Graphi', 'Science Writing for Media', 'American Cinema', 'American Capitalism', 'Intermed Design&Prog for Web', 'Intro Game Design', 'UNIX Tools and Scripting', 'Small Boat Sailing', 'Inventing an Info Society', 'Intro Oceanography with Lab', 'Intro to U.S. Labor History'], 'terms': [('ENGRG3400', (2015, 2)), ('PE1460', (2012, 2)), ('ILRLR1100', (2016, 0)), ('INFO3300', (2015, 0)), ('ASTRO1102', (2014, 0)), ('MATH2210', (2013, 2)), ('PSYCH3420', (2015, 2)), ('CS2043', (2016, 0)), ('VISST2300', (2013, 2)), ('INFO2040', (2013, 2)), ('CS2110', (2013, 0)), ('CS2800', (2013, 0)), ('INFO3450', (2014, 2)), ('MATH1120', (2013, 0)), ('INFO2950', (2016, 0)), ('PE1480', (2014, 2)), ('PSYCH1102', (2012, 2)), ('PE1570', (2016, 0)), ('BIOEE1610', (2014, 0)), ('INFO4300', (2014, 2)), ('INFO1300', (2013, 2)), ('PE1664', (2013, 0)), ('INFO2300', (2014, 0)), ('INFO2450', (2014, 2)), ('INFO4154', (2015, 2)), ('HIST1540', (2013, 0)), ('CS1110', (2012, 2)), ('ENGRG3400', (2016, 0)), ('INFO4400', (2015, 0)), ('INFO2921', (2014, 0)), ('STS3020', (2015, 2)), ('BIOEE1560', (2014, 2)), ('INFO3152', (2015, 0)), ('PE1332', (2015, 0))], 'term_numbers': {'PE1460': 1, 'PSYCH1102': 1, 'CS1110': 1, 'CS2110': 2, 'CS2800': 2, 'MATH1120': 2, 'PE1664': 2, 'HIST1540': 2, 'MATH2210': 3, 'VISST2300': 3, 'INFO2040': 3, 'INFO1300': 3, 'ASTRO1102': 4, 'BIOEE1610': 4, 'INFO2300': 4, 'INFO2921': 4, 'INFO3450': 5, 'PE1480': 5, 'INFO4300': 5, 'INFO2450': 5, 'BIOEE1560': 5, 'INFO3300': 6, 'INFO4400': 6, 'INFO3152': 6, 'PE1332': 6, 'ENGRG3400': 8, 'PSYCH3420': 7, 'INFO4154': 7, 'STS3020': 7, 'ILRLR1100': 8, 'CS2043': 8, 'INFO2950': 8, 'PE1570': 8}}\n"
     ]
    }
   ],
   "source": [
    "print(list(data.courses[\"CS1110\"].students)[0])"
   ]
  },
  {
   "cell_type": "markdown",
   "metadata": {},
   "source": [
    "# Graph model test"
   ]
  },
  {
   "cell_type": "code",
   "execution_count": 19,
   "metadata": {
    "collapsed": true
   },
   "outputs": [],
   "source": [
    "g = graph.Graph()"
   ]
  },
  {
   "cell_type": "code",
   "execution_count": 20,
   "metadata": {},
   "outputs": [
    {
     "name": "stdout",
     "output_type": "stream",
     "text": [
      "250\n",
      "500\n",
      "750\n",
      "1000\n",
      "1.5165860652923584\n"
     ]
    }
   ],
   "source": [
    "start = time.time()\n",
    "c = 1\n",
    "for cname1 in data.courses:\n",
    "    if c % 250 == 0:\n",
    "        print(c)\n",
    "    for cname2 in data.courses:\n",
    "        if cname2 == cname1:\n",
    "            continue\n",
    "        course = data.courses[cname1]\n",
    "        count = 0\n",
    "        for s in course.students:\n",
    "            if cname2 in s.term_numbers and s.term_numbers[cname2] == s.term_numbers[cname1]:\n",
    "                count += 1\n",
    "        if count > 0:\n",
    "            g.addEdge(cname1, cname2, count)\n",
    "    c += 1\n",
    "end = time.time()\n",
    "print(end - start)"
   ]
  },
  {
   "cell_type": "code",
   "execution_count": 25,
   "metadata": {},
   "outputs": [
    {
     "data": {
      "text/plain": [
       "(111090, 1152)"
      ]
     },
     "execution_count": 25,
     "metadata": {},
     "output_type": "execute_result"
    }
   ],
   "source": [
    "len(g.edges),len(g.filterEdges(lambda e: e.weight > 30))"
   ]
  },
  {
   "cell_type": "code",
   "execution_count": 21,
   "metadata": {},
   "outputs": [
    {
     "name": "stdout",
     "output_type": "stream",
     "text": [
      "done! exported as data/stsci_post.json\n"
     ]
    }
   ],
   "source": [
    "g.export_json(\"data/stsci_c\")"
   ]
  },
  {
   "cell_type": "code",
   "execution_count": 27,
   "metadata": {},
   "outputs": [
    {
     "name": "stdout",
     "output_type": "stream",
     "text": [
      "done! exported as data/cs_co_30.json\n"
     ]
    }
   ],
   "source": [
    "g.export_json(\"data/cs_co_30\",30)"
   ]
  },
  {
   "cell_type": "code",
   "execution_count": 32,
   "metadata": {},
   "outputs": [
    {
     "name": "stdout",
     "output_type": "stream",
     "text": [
      "done! exported as test4.dot\n"
     ]
    }
   ],
   "source": [
    "g.export_graph(\"test4\",300)"
   ]
  },
  {
   "cell_type": "code",
   "execution_count": 36,
   "metadata": {},
   "outputs": [
    {
     "ename": "AttributeError",
     "evalue": "'tuple' object has no attribute 'weight'",
     "output_type": "error",
     "traceback": [
      "\u001b[0;31m---------------------------------------------------------------------------\u001b[0m",
      "\u001b[0;31mAttributeError\u001b[0m                            Traceback (most recent call last)",
      "\u001b[0;32m<ipython-input-36-331e33991642>\u001b[0m in \u001b[0;36m<module>\u001b[0;34m()\u001b[0m\n\u001b[0;32m----> 1\u001b[0;31m \u001b[0mx\u001b[0m \u001b[0;34m=\u001b[0m \u001b[0;34m[\u001b[0m\u001b[0mmin\u001b[0m\u001b[0;34m(\u001b[0m\u001b[0me\u001b[0m\u001b[0;34m.\u001b[0m\u001b[0mweight\u001b[0m\u001b[0;34m,\u001b[0m \u001b[0;36m100\u001b[0m\u001b[0;34m)\u001b[0m \u001b[0;32mfor\u001b[0m \u001b[0me\u001b[0m \u001b[0;32min\u001b[0m \u001b[0mg\u001b[0m\u001b[0;34m.\u001b[0m\u001b[0medges\u001b[0m\u001b[0;34m]\u001b[0m\u001b[0;34m\u001b[0m\u001b[0m\n\u001b[0m\u001b[1;32m      2\u001b[0m \u001b[0mnum_bins\u001b[0m \u001b[0;34m=\u001b[0m \u001b[0;36m25\u001b[0m\u001b[0;34m\u001b[0m\u001b[0m\n\u001b[1;32m      3\u001b[0m \u001b[0mn\u001b[0m\u001b[0;34m,\u001b[0m \u001b[0mbins\u001b[0m\u001b[0;34m,\u001b[0m \u001b[0mpatches\u001b[0m \u001b[0;34m=\u001b[0m \u001b[0mplt\u001b[0m\u001b[0;34m.\u001b[0m\u001b[0mhist\u001b[0m\u001b[0;34m(\u001b[0m\u001b[0mx\u001b[0m\u001b[0;34m,\u001b[0m \u001b[0mnum_bins\u001b[0m\u001b[0;34m,\u001b[0m \u001b[0mfacecolor\u001b[0m\u001b[0;34m=\u001b[0m\u001b[0;34m'blue'\u001b[0m\u001b[0;34m,\u001b[0m \u001b[0malpha\u001b[0m\u001b[0;34m=\u001b[0m\u001b[0;36m0.5\u001b[0m\u001b[0;34m)\u001b[0m\u001b[0;34m\u001b[0m\u001b[0m\n\u001b[1;32m      4\u001b[0m \u001b[0mplt\u001b[0m\u001b[0;34m.\u001b[0m\u001b[0mxlabel\u001b[0m\u001b[0;34m(\u001b[0m\u001b[0;34m\"edge weight\"\u001b[0m\u001b[0;34m)\u001b[0m\u001b[0;34m\u001b[0m\u001b[0m\n\u001b[1;32m      5\u001b[0m \u001b[0mplt\u001b[0m\u001b[0;34m.\u001b[0m\u001b[0mylabel\u001b[0m\u001b[0;34m(\u001b[0m\u001b[0;34m\"frequency\"\u001b[0m\u001b[0;34m)\u001b[0m\u001b[0;34m\u001b[0m\u001b[0m\n",
      "\u001b[0;32m<ipython-input-36-331e33991642>\u001b[0m in \u001b[0;36m<listcomp>\u001b[0;34m(.0)\u001b[0m\n\u001b[0;32m----> 1\u001b[0;31m \u001b[0mx\u001b[0m \u001b[0;34m=\u001b[0m \u001b[0;34m[\u001b[0m\u001b[0mmin\u001b[0m\u001b[0;34m(\u001b[0m\u001b[0me\u001b[0m\u001b[0;34m.\u001b[0m\u001b[0mweight\u001b[0m\u001b[0;34m,\u001b[0m \u001b[0;36m100\u001b[0m\u001b[0;34m)\u001b[0m \u001b[0;32mfor\u001b[0m \u001b[0me\u001b[0m \u001b[0;32min\u001b[0m \u001b[0mg\u001b[0m\u001b[0;34m.\u001b[0m\u001b[0medges\u001b[0m\u001b[0;34m]\u001b[0m\u001b[0;34m\u001b[0m\u001b[0m\n\u001b[0m\u001b[1;32m      2\u001b[0m \u001b[0mnum_bins\u001b[0m \u001b[0;34m=\u001b[0m \u001b[0;36m25\u001b[0m\u001b[0;34m\u001b[0m\u001b[0m\n\u001b[1;32m      3\u001b[0m \u001b[0mn\u001b[0m\u001b[0;34m,\u001b[0m \u001b[0mbins\u001b[0m\u001b[0;34m,\u001b[0m \u001b[0mpatches\u001b[0m \u001b[0;34m=\u001b[0m \u001b[0mplt\u001b[0m\u001b[0;34m.\u001b[0m\u001b[0mhist\u001b[0m\u001b[0;34m(\u001b[0m\u001b[0mx\u001b[0m\u001b[0;34m,\u001b[0m \u001b[0mnum_bins\u001b[0m\u001b[0;34m,\u001b[0m \u001b[0mfacecolor\u001b[0m\u001b[0;34m=\u001b[0m\u001b[0;34m'blue'\u001b[0m\u001b[0;34m,\u001b[0m \u001b[0malpha\u001b[0m\u001b[0;34m=\u001b[0m\u001b[0;36m0.5\u001b[0m\u001b[0;34m)\u001b[0m\u001b[0;34m\u001b[0m\u001b[0m\n\u001b[1;32m      4\u001b[0m \u001b[0mplt\u001b[0m\u001b[0;34m.\u001b[0m\u001b[0mxlabel\u001b[0m\u001b[0;34m(\u001b[0m\u001b[0;34m\"edge weight\"\u001b[0m\u001b[0;34m)\u001b[0m\u001b[0;34m\u001b[0m\u001b[0m\n\u001b[1;32m      5\u001b[0m \u001b[0mplt\u001b[0m\u001b[0;34m.\u001b[0m\u001b[0mylabel\u001b[0m\u001b[0;34m(\u001b[0m\u001b[0;34m\"frequency\"\u001b[0m\u001b[0;34m)\u001b[0m\u001b[0;34m\u001b[0m\u001b[0m\n",
      "\u001b[0;31mAttributeError\u001b[0m: 'tuple' object has no attribute 'weight'"
     ]
    }
   ],
   "source": [
    "x = [min(e.weight, 100) for e in g.edges]\n",
    "num_bins = 25\n",
    "n, bins, patches = plt.hist(x, num_bins, facecolor='blue', alpha=0.5)\n",
    "plt.xlabel(\"edge weight\")\n",
    "plt.ylabel(\"frequency\")\n",
    "plt.title(\"distribution of edge weights (capped at 100)\")\n",
    "plt.show()"
   ]
  },
  {
   "cell_type": "code",
   "execution_count": 121,
   "metadata": {},
   "outputs": [
    {
     "data": {
      "text/plain": [
       "159731"
      ]
     },
     "execution_count": 121,
     "metadata": {},
     "output_type": "execute_result"
    }
   ],
   "source": [
    "len(g.edges)"
   ]
  },
  {
   "cell_type": "code",
   "execution_count": 134,
   "metadata": {},
   "outputs": [
    {
     "name": "stdout",
     "output_type": "stream",
     "text": [
      "159731\n"
     ]
    }
   ],
   "source": [
    "edges_dict = {}\n",
    "for e in g.edges:\n",
    "    edges_dict[(e.src, e.dest)] = e.weight\n",
    "print(len(edges_dict))"
   ]
  },
  {
   "cell_type": "code",
   "execution_count": 135,
   "metadata": {},
   "outputs": [
    {
     "name": "stdout",
     "output_type": "stream",
     "text": [
      "156744\n"
     ]
    }
   ],
   "source": [
    "for k in list(edges_dict.keys()):\n",
    "    k1, k2 = k\n",
    "    if k in edges_dict and (k2,k1) in edges_dict:\n",
    "        w1, w2 = edges_dict[k], edges_dict[(k2, k1)]\n",
    "        if w1/w2 > 4:\n",
    "            del edges_dict[(k2, k1)]\n",
    "        elif w2/w1 > 4:\n",
    "            del edges_dict[k]\n",
    "print(len(edges_dict))"
   ]
  },
  {
   "cell_type": "code",
   "execution_count": 139,
   "metadata": {},
   "outputs": [
    {
     "name": "stdout",
     "output_type": "stream",
     "text": [
      "14225\n"
     ]
    }
   ],
   "source": [
    "for k in list(edges_dict.keys()):\n",
    "    if edges_dict[k] < 5:\n",
    "        del edges_dict[k]\n",
    "print(len(edges_dict))    "
   ]
  },
  {
   "cell_type": "code",
   "execution_count": 141,
   "metadata": {},
   "outputs": [
    {
     "name": "stdout",
     "output_type": "stream",
     "text": [
      "922\n"
     ]
    }
   ],
   "source": [
    "n = set()\n",
    "for k in list(edges_dict.keys()):\n",
    "    n.add(k[0])\n",
    "    n.add(k[1])\n",
    "print(len(n))"
   ]
  },
  {
   "cell_type": "code",
   "execution_count": 142,
   "metadata": {},
   "outputs": [
    {
     "data": {
      "text/plain": [
       "3625"
      ]
     },
     "execution_count": 142,
     "metadata": {},
     "output_type": "execute_result"
    }
   ],
   "source": [
    "len(g.nodes)"
   ]
  },
  {
   "cell_type": "code",
   "execution_count": 20,
   "metadata": {},
   "outputs": [
    {
     "data": {
      "text/plain": [
       "174"
      ]
     },
     "execution_count": 20,
     "metadata": {},
     "output_type": "execute_result"
    }
   ],
   "source": [
    "len(set([x.src for x in g.filterEdges(lambda e: e.weight > 30)]+[x.dest for x in g.filterEdges(lambda e: e.weight > 30)]))"
   ]
  },
  {
   "cell_type": "code",
   "execution_count": null,
   "metadata": {
    "collapsed": true
   },
   "outputs": [],
   "source": []
  },
  {
   "cell_type": "code",
   "execution_count": null,
   "metadata": {
    "collapsed": true
   },
   "outputs": [],
   "source": []
  }
 ],
 "metadata": {
  "kernelspec": {
   "display_name": "Python 3",
   "language": "python",
   "name": "python3"
  },
  "language_info": {
   "codemirror_mode": {
    "name": "ipython",
    "version": 3
   },
   "file_extension": ".py",
   "mimetype": "text/x-python",
   "name": "python",
   "nbconvert_exporter": "python",
   "pygments_lexer": "ipython3",
   "version": "3.6.0"
  }
 },
 "nbformat": 4,
 "nbformat_minor": 2
}
