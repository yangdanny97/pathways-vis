{
 "cells": [
  {
   "cell_type": "code",
   "execution_count": 33,
   "metadata": {},
   "outputs": [],
   "source": [
    "import importlib\n",
    "import test_extract\n",
    "importlib.reload(test_extract)\n",
    "import time"
   ]
  },
  {
   "cell_type": "code",
   "execution_count": 34,
   "metadata": {},
   "outputs": [
    {
     "name": "stdout",
     "output_type": "stream",
     "text": [
      "1.4062469005584717\n"
     ]
    }
   ],
   "source": [
    "start = time.time()\n",
    "data = test_extract.Data(\"./CIS_enrollment.csv\")\n",
    "end = time.time()\n",
    "print(end - start)"
   ]
  },
  {
   "cell_type": "code",
   "execution_count": 83,
   "metadata": {},
   "outputs": [
    {
     "data": {
      "text/plain": [
       "{'AEP3610': <test_extract.Course at 0x106711518>,\n",
       " 'ECE4760': <test_extract.Course at 0x1067113c8>,\n",
       " 'ENGRG1009': <test_extract.Course at 0x106687278>,\n",
       " 'MAE2120': <test_extract.Course at 0x106679d68>,\n",
       " 'MATH2210': <test_extract.Course at 0x1067116d8>,\n",
       " 'ORIE4580': <test_extract.Course at 0x10668f320>}"
      ]
     },
     "execution_count": 83,
     "metadata": {},
     "output_type": "execute_result"
    }
   ],
   "source": [
    "data.courses"
   ]
  },
  {
   "cell_type": "code",
   "execution_count": 84,
   "metadata": {},
   "outputs": [
    {
     "data": {
      "text/plain": [
       "{<test_extract.Student at 0x106687128>,\n",
       " <test_extract.Student at 0x106711550>,\n",
       " <test_extract.Student at 0x1067115f8>}"
      ]
     },
     "execution_count": 84,
     "metadata": {},
     "output_type": "execute_result"
    }
   ],
   "source": [
    "data.courses[\"AEP3610\"].students"
   ]
  },
  {
   "cell_type": "code",
   "execution_count": 85,
   "metadata": {},
   "outputs": [
    {
     "data": {
      "text/plain": [
       "[<test_extract.Student at 0x10668f048>,\n",
       " <test_extract.Student at 0x106679be0>,\n",
       " <test_extract.Student at 0x10663b080>,\n",
       " <test_extract.Student at 0x1066872b0>,\n",
       " <test_extract.Student at 0x106687128>,\n",
       " <test_extract.Student at 0x106688390>,\n",
       " <test_extract.Student at 0x106711550>,\n",
       " <test_extract.Student at 0x1067115f8>,\n",
       " <test_extract.Student at 0x1067116a0>,\n",
       " <test_extract.Student at 0x106711780>,\n",
       " <test_extract.Student at 0x1067117f0>]"
      ]
     },
     "execution_count": 85,
     "metadata": {},
     "output_type": "execute_result"
    }
   ],
   "source": [
    "[s for s in data.getStudents() if s.major == \"Computer Science\"]"
   ]
  },
  {
   "cell_type": "code",
   "execution_count": 86,
   "metadata": {},
   "outputs": [
    {
     "data": {
      "text/plain": [
       "\"{'id': '1909245', 'major': 'Computer Science', 'courses': ['Simulation Modeling & Analysis'], 'terms': [('ORIE4580', (2015, 2))], 'term_numbers': [('ORIE4580', 1)]}\""
      ]
     },
     "execution_count": 86,
     "metadata": {},
     "output_type": "execute_result"
    }
   ],
   "source": [
    "str(data.getStudents()[0])"
   ]
  },
  {
   "cell_type": "code",
   "execution_count": 87,
   "metadata": {},
   "outputs": [
    {
     "data": {
      "text/plain": [
       "[\"{'id': 'MATH2210', 'name': 'Linear Algebra', 'students': ['2906441', '3398432', '3019148', '2058594'], 'terms': {(2019, 0), (2018, 0)}, 'term_numbers': [3, 1, 1, 1]}\"]"
      ]
     },
     "execution_count": 87,
     "metadata": {},
     "output_type": "execute_result"
    }
   ],
   "source": [
    "[str(c) for c in data.getCourses() if max(c.terms) >= (2018,1)]"
   ]
  },
  {
   "cell_type": "code",
   "execution_count": null,
   "metadata": {
    "collapsed": true
   },
   "outputs": [],
   "source": []
  },
  {
   "cell_type": "code",
   "execution_count": 89,
   "metadata": {},
   "outputs": [
    {
     "data": {
      "text/plain": [
       "\"{'id': 'MATH2210', 'name': 'Linear Algebra', 'students': ['2906441', '3398432', '3019148', '2058594'], 'terms': {(2019, 0), (2018, 0)}, 'term_numbers': [3, 1, 1, 1]}\""
      ]
     },
     "execution_count": 89,
     "metadata": {},
     "output_type": "execute_result"
    }
   ],
   "source": [
    "str(data.filterCourses(lambda c:max(c.terms) >= (2018,1))[0])"
   ]
  },
  {
   "cell_type": "code",
   "execution_count": null,
   "metadata": {
    "collapsed": true
   },
   "outputs": [],
   "source": []
  },
  {
   "cell_type": "code",
   "execution_count": null,
   "metadata": {
    "collapsed": true
   },
   "outputs": [],
   "source": []
  },
  {
   "cell_type": "code",
   "execution_count": null,
   "metadata": {
    "collapsed": true
   },
   "outputs": [],
   "source": []
  }
 ],
 "metadata": {
  "kernelspec": {
   "display_name": "Python 3",
   "language": "python",
   "name": "python3"
  },
  "language_info": {
   "codemirror_mode": {
    "name": "ipython",
    "version": 3
   },
   "file_extension": ".py",
   "mimetype": "text/x-python",
   "name": "python",
   "nbconvert_exporter": "python",
   "pygments_lexer": "ipython3",
   "version": "3.6.0"
  }
 },
 "nbformat": 4,
 "nbformat_minor": 2
}
