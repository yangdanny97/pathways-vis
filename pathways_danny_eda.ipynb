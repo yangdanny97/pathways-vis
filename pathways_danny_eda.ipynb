{
 "cells": [
  {
   "cell_type": "code",
   "execution_count": 1,
   "metadata": {
    "collapsed": true
   },
   "outputs": [],
   "source": [
    "import importlib\n",
    "import test_extract\n",
    "import graph\n",
    "importlib.reload(test_extract)\n",
    "importlib.reload(graph)\n",
    "import time\n",
    "import matplotlib.pyplot as plt"
   ]
  },
  {
   "cell_type": "code",
   "execution_count": 17,
   "metadata": {},
   "outputs": [
    {
     "name": "stdout",
     "output_type": "stream",
     "text": [
      "0.9292340278625488\n"
     ]
    }
   ],
   "source": [
    "start = time.time()\n",
    "data = test_extract.Data(\"./data/CIS_enrollment.csv\", [\"Computer Science\"])\n",
    "end = time.time()\n",
    "print(end - start)"
   ]
  },
  {
   "cell_type": "markdown",
   "metadata": {},
   "source": [
    "# Data model test"
   ]
  },
  {
   "cell_type": "code",
   "execution_count": 18,
   "metadata": {},
   "outputs": [
    {
     "data": {
      "text/plain": [
       "(2946, 3194)"
      ]
     },
     "execution_count": 18,
     "metadata": {},
     "output_type": "execute_result"
    }
   ],
   "source": [
    "len(data.courses),len(data.students)"
   ]
  },
  {
   "cell_type": "code",
   "execution_count": 19,
   "metadata": {},
   "outputs": [
    {
     "name": "stdout",
     "output_type": "stream",
     "text": [
      "{'id': '321398', 'major': 'Computer Science', 'courses': ['MicroElectro Mechanical System', 'Multivariable Calculus Engrs', 'Computer Graphics I', 'Fiber & Integrated Optics', 'Intro to Scientific Comp', 'Lasers and Optoelectronics', 'Datacenter Networks & Services', 'Intro Microeconomics', 'Advanced Volleyball', 'Differential Equations Engrs', 'Digital VLSI Design', 'Embedded Systems', 'Linear Algebra for Engineers', 'Physics II: Electromagnetism', 'Engineering Communications', 'Marketing', 'Intro to Microelectronics', 'Advanced Digital VLSI', 'Intro Computing Using Java', 'Advanced Systems', 'Intro to Entrep & Engr Enterpr', 'Archery', 'Beginning Swim', 'Advanced Computer Architecture', 'Phys III-Osc Waves & Quan Phys', 'Short Course in MATLAB', 'Intro to Circ Elec & Comp Engr', 'Advanced Computer Architecture', 'Physics I: Mechanics & Heat', 'Cooperative Workshop MATH 1920', 'Signals and Information', 'Intro to Business Management', 'Finance', 'Computer Architecture', 'Digital Logic & Computer Org.', 'Obj-Oriented Prog & Data Struc', 'Networks', 'Basketball', 'Engineering Seminar', 'Complex Digital ASIC Design'], 'terms': [('ECE3150', (2010, 0)), ('ECE4320', (2010, 2)), ('CS3220', (2010, 0)), ('CS4620', (2010, 2)), ('ECE4740', (2012, 0)), ('ENGRG1050', (2008, 2)), ('MATH2930', (2009, 0)), ('PE1100', (2008, 2)), ('ECE2100', (2009, 2)), ('PE1571', (2008, 2)), ('PHYS2214', (2009, 2)), ('ECE4750', (2010, 2)), ('ECE3140', (2010, 0)), ('PHYS2213', (2009, 0)), ('MATH1920', (2008, 2)), ('ENGRI1270', (2009, 0)), ('CS6452', (2014, 0)), ('PE1560', (2011, 2)), ('ENGRD2110', (2009, 2)), ('ECE2200', (2010, 0)), ('ENGRC3500', (2011, 2)), ('CS6410', (2013, 2)), ('ECE5740', (2012, 2)), ('AEM1200', (2012, 0)), ('CS5420', (2011, 2)), ('CS1110', (2008, 2)), ('ECON1110', (2010, 0)), ('ECE5750', (2012, 0)), ('ECE4300', (2011, 2)), ('PHYS1112', (2008, 2)), ('PE1520', (2011, 2)), ('SOC2090', (2009, 0)), ('AEM3240', (2011, 2)), ('MATH2940', (2009, 2)), ('ENGRD2300', (2009, 2)), ('AEM2400', (2010, 2)), ('ECE5745', (2013, 0)), ('CS1132', (2009, 2)), ('ENGRG1092', (2008, 2)), ('ECE4370', (2012, 0))], 'term_numbers': {'ENGRG1050': 1, 'PE1100': 1, 'PE1571': 1, 'MATH1920': 1, 'CS1110': 1, 'PHYS1112': 1, 'ENGRG1092': 1, 'MATH2930': 2, 'PHYS2213': 2, 'ENGRI1270': 2, 'SOC2090': 2, 'ECE2100': 3, 'PHYS2214': 3, 'ENGRD2110': 3, 'MATH2940': 3, 'ENGRD2300': 3, 'CS1132': 3, 'ECE3150': 4, 'CS3220': 4, 'ECE3140': 4, 'ECE2200': 4, 'ECON1110': 4, 'ECE4320': 5, 'CS4620': 5, 'ECE4750': 5, 'AEM2400': 5, 'PE1560': 6, 'ENGRC3500': 6, 'CS5420': 6, 'ECE4300': 6, 'PE1520': 6, 'AEM3240': 6, 'ECE4740': 7, 'AEM1200': 7, 'ECE5750': 7, 'ECE4370': 7, 'ECE5740': 8, 'ECE5745': 9, 'CS6410': 10, 'CS6452': 11}}\n"
     ]
    }
   ],
   "source": [
    "print(list(data.students.values())[0])"
   ]
  },
  {
   "cell_type": "code",
   "execution_count": 20,
   "metadata": {},
   "outputs": [
    {
     "name": "stdout",
     "output_type": "stream",
     "text": [
      "{'id': '2995821', 'major': 'Computer Science', 'courses': ['Introductory Oceanography', 'Systems Programming', 'Intro Computing Using Java', 'Foundations of Artif Inllgnce', 'Discrete Structures', 'Intro Analysis of Algorithms', 'Introduction To Linguistics', 'History of the Mod Mideast', 'Obj-Oriented Prog & Data Struc', 'Linear Algebra for Engineers', 'Financial Accounting', 'Beginning Swim', 'Managerial Finance', 'Intro Microeconomics', 'Intro Bio: Comp Physiology', 'Introduction to Psychology', 'Data Struct & Functional Progr', 'Probability Models & Inference', 'Machine Learning'], 'terms': [('PE1100', (2016, 2)), ('PSYCH1101', (2018, 2)), ('CS3110', (2018, 0)), ('CS4780', (2018, 2)), ('CS4700', (2018, 0)), ('MATH2940', (2017, 2)), ('CS2110', (2017, 0)), ('NES2674', (2017, 2)), ('ECON1110', (2017, 2)), ('CS1110', (2016, 2)), ('BIOEE1540', (2018, 2)), ('LING1101', (2018, 0)), ('BIOG1440', (2016, 2)), ('CS3410', (2017, 2)), ('BTRY3080', (2018, 0)), ('CS2800', (2017, 0)), ('AEM2210', (2018, 0)), ('CS4820', (2018, 2)), ('NCC5560', (2018, 2))], 'term_numbers': {'PE1100': 1, 'CS1110': 1, 'BIOG1440': 1, 'CS2110': 2, 'CS2800': 2, 'MATH2940': 3, 'NES2674': 3, 'ECON1110': 3, 'CS3410': 3, 'CS3110': 4, 'CS4700': 4, 'LING1101': 4, 'BTRY3080': 4, 'AEM2210': 4, 'PSYCH1101': 5, 'CS4780': 5, 'BIOEE1540': 5, 'CS4820': 5, 'NCC5560': 5}}\n"
     ]
    }
   ],
   "source": [
    "print(list(data.courses[\"CS1110\"].students)[0])"
   ]
  },
  {
   "cell_type": "markdown",
   "metadata": {},
   "source": [
    "# Graph model test"
   ]
  },
  {
   "cell_type": "code",
   "execution_count": 28,
   "metadata": {
    "collapsed": true
   },
   "outputs": [],
   "source": [
    "g = graph.Graph()"
   ]
  },
  {
   "cell_type": "code",
   "execution_count": 29,
   "metadata": {},
   "outputs": [
    {
     "name": "stdout",
     "output_type": "stream",
     "text": [
      "250\n",
      "500\n",
      "750\n",
      "1000\n",
      "1250\n",
      "1500\n",
      "1750\n",
      "2000\n",
      "2250\n",
      "2500\n",
      "2750\n",
      "43.71582221984863\n"
     ]
    }
   ],
   "source": [
    "start = time.time()\n",
    "c = 1\n",
    "for cname1 in data.courses:\n",
    "    if c % 250 == 0:\n",
    "        print(c)\n",
    "    for cname2 in data.courses:\n",
    "        if cname2 == cname1:\n",
    "            continue\n",
    "        course = data.courses[cname1]\n",
    "        count = 0\n",
    "        for s in course.students:\n",
    "            if cname2 in s.term_numbers and s.term_numbers[cname2] == s.term_numbers[cname1] + 2:\n",
    "                count += 1\n",
    "        if count > 0:\n",
    "            g.addEdge(cname1, cname2, count)\n",
    "    c += 1\n",
    "end = time.time()\n",
    "print(end - start)"
   ]
  },
  {
   "cell_type": "code",
   "execution_count": 30,
   "metadata": {},
   "outputs": [
    {
     "data": {
      "text/plain": [
       "96242"
      ]
     },
     "execution_count": 30,
     "metadata": {},
     "output_type": "execute_result"
    }
   ],
   "source": [
    "len(g.edges)"
   ]
  },
  {
   "cell_type": "code",
   "execution_count": 31,
   "metadata": {},
   "outputs": [
    {
     "name": "stdout",
     "output_type": "stream",
     "text": [
      "(MATH2940,CS3110,371)\n",
      "(MATH2940,CS4410,329)\n",
      "(MATH2940,CS3410,308)\n",
      "(MATH2940,CS4820,388)\n",
      "(PHYS1112,CS2800,266)\n",
      "(ENGRG1050,MATH2940,714)\n",
      "(ENGRG1050,CS2800,688)\n",
      "(ENGRG1050,MATH2930,300)\n",
      "(ENGRG1050,CS3110,544)\n",
      "(ENGRG1050,PHYS2213,576)\n",
      "(ENGRG1050,ENGRD2700,362)\n",
      "(ENGRG1050,CS2850,398)\n",
      "(MATH1920,MATH2940,526)\n",
      "(MATH1920,CS2800,513)\n",
      "(MATH1920,MATH2930,296)\n",
      "(MATH1920,CS3110,522)\n",
      "(MATH1920,PHYS2213,287)\n",
      "(MATH1920,ENGRD2700,351)\n",
      "(MATH1920,CS3410,379)\n",
      "(MATH1920,CS2850,294)\n",
      "(CS1110,MATH2940,368)\n",
      "(CS1110,CS2800,531)\n",
      "(CS1110,CS3110,442)\n",
      "(CS1110,PHYS2213,288)\n",
      "(CS1110,CS3410,261)\n",
      "(CHEM2090,MATH2940,312)\n",
      "(CHEM2090,CS2800,298)\n",
      "(CHEM2090,PHYS2213,301)\n",
      "(CS2800,CS3110,564)\n",
      "(CS2800,CS4410,443)\n",
      "(CS2800,CS4701,280)\n",
      "(CS2800,CS3410,496)\n",
      "(CS2800,CS4820,586)\n",
      "(CS2800,CS4700,356)\n",
      "(MATH1910,MATH2940,338)\n",
      "(MATH1910,CS2800,263)\n",
      "(MATH1910,PHYS2213,305)\n",
      "(CS3110,CS4410,641)\n",
      "(CS3110,CS4701,310)\n",
      "(CS3110,CS4780,279)\n",
      "(CS3110,CS4820,383)\n",
      "(CS3110,CS4700,323)\n",
      "(PHYS2213,CS3110,265)\n",
      "(CS2110,CS3110,402)\n",
      "(CS2110,CS3410,431)\n",
      "(CS2110,CS4820,257)\n",
      "(CS3410,CS4820,501)\n",
      "(CS2850,CS4410,257)\n"
     ]
    }
   ],
   "source": [
    "for e in g.filterEdges(lambda e: e.weight > 250):\n",
    "    print(str(e))"
   ]
  },
  {
   "cell_type": "code",
   "execution_count": null,
   "metadata": {
    "collapsed": true
   },
   "outputs": [],
   "source": []
  },
  {
   "cell_type": "code",
   "execution_count": 32,
   "metadata": {},
   "outputs": [
    {
     "name": "stdout",
     "output_type": "stream",
     "text": [
      "done! exported as test4.dot\n"
     ]
    }
   ],
   "source": [
    "g.export_graph(\"test4\",300)"
   ]
  },
  {
   "cell_type": "code",
   "execution_count": 36,
   "metadata": {},
   "outputs": [
    {
     "ename": "AttributeError",
     "evalue": "'tuple' object has no attribute 'weight'",
     "output_type": "error",
     "traceback": [
      "\u001b[0;31m---------------------------------------------------------------------------\u001b[0m",
      "\u001b[0;31mAttributeError\u001b[0m                            Traceback (most recent call last)",
      "\u001b[0;32m<ipython-input-36-331e33991642>\u001b[0m in \u001b[0;36m<module>\u001b[0;34m()\u001b[0m\n\u001b[0;32m----> 1\u001b[0;31m \u001b[0mx\u001b[0m \u001b[0;34m=\u001b[0m \u001b[0;34m[\u001b[0m\u001b[0mmin\u001b[0m\u001b[0;34m(\u001b[0m\u001b[0me\u001b[0m\u001b[0;34m.\u001b[0m\u001b[0mweight\u001b[0m\u001b[0;34m,\u001b[0m \u001b[0;36m100\u001b[0m\u001b[0;34m)\u001b[0m \u001b[0;32mfor\u001b[0m \u001b[0me\u001b[0m \u001b[0;32min\u001b[0m \u001b[0mg\u001b[0m\u001b[0;34m.\u001b[0m\u001b[0medges\u001b[0m\u001b[0;34m]\u001b[0m\u001b[0;34m\u001b[0m\u001b[0m\n\u001b[0m\u001b[1;32m      2\u001b[0m \u001b[0mnum_bins\u001b[0m \u001b[0;34m=\u001b[0m \u001b[0;36m25\u001b[0m\u001b[0;34m\u001b[0m\u001b[0m\n\u001b[1;32m      3\u001b[0m \u001b[0mn\u001b[0m\u001b[0;34m,\u001b[0m \u001b[0mbins\u001b[0m\u001b[0;34m,\u001b[0m \u001b[0mpatches\u001b[0m \u001b[0;34m=\u001b[0m \u001b[0mplt\u001b[0m\u001b[0;34m.\u001b[0m\u001b[0mhist\u001b[0m\u001b[0;34m(\u001b[0m\u001b[0mx\u001b[0m\u001b[0;34m,\u001b[0m \u001b[0mnum_bins\u001b[0m\u001b[0;34m,\u001b[0m \u001b[0mfacecolor\u001b[0m\u001b[0;34m=\u001b[0m\u001b[0;34m'blue'\u001b[0m\u001b[0;34m,\u001b[0m \u001b[0malpha\u001b[0m\u001b[0;34m=\u001b[0m\u001b[0;36m0.5\u001b[0m\u001b[0;34m)\u001b[0m\u001b[0;34m\u001b[0m\u001b[0m\n\u001b[1;32m      4\u001b[0m \u001b[0mplt\u001b[0m\u001b[0;34m.\u001b[0m\u001b[0mxlabel\u001b[0m\u001b[0;34m(\u001b[0m\u001b[0;34m\"edge weight\"\u001b[0m\u001b[0;34m)\u001b[0m\u001b[0;34m\u001b[0m\u001b[0m\n\u001b[1;32m      5\u001b[0m \u001b[0mplt\u001b[0m\u001b[0;34m.\u001b[0m\u001b[0mylabel\u001b[0m\u001b[0;34m(\u001b[0m\u001b[0;34m\"frequency\"\u001b[0m\u001b[0;34m)\u001b[0m\u001b[0;34m\u001b[0m\u001b[0m\n",
      "\u001b[0;32m<ipython-input-36-331e33991642>\u001b[0m in \u001b[0;36m<listcomp>\u001b[0;34m(.0)\u001b[0m\n\u001b[0;32m----> 1\u001b[0;31m \u001b[0mx\u001b[0m \u001b[0;34m=\u001b[0m \u001b[0;34m[\u001b[0m\u001b[0mmin\u001b[0m\u001b[0;34m(\u001b[0m\u001b[0me\u001b[0m\u001b[0;34m.\u001b[0m\u001b[0mweight\u001b[0m\u001b[0;34m,\u001b[0m \u001b[0;36m100\u001b[0m\u001b[0;34m)\u001b[0m \u001b[0;32mfor\u001b[0m \u001b[0me\u001b[0m \u001b[0;32min\u001b[0m \u001b[0mg\u001b[0m\u001b[0;34m.\u001b[0m\u001b[0medges\u001b[0m\u001b[0;34m]\u001b[0m\u001b[0;34m\u001b[0m\u001b[0m\n\u001b[0m\u001b[1;32m      2\u001b[0m \u001b[0mnum_bins\u001b[0m \u001b[0;34m=\u001b[0m \u001b[0;36m25\u001b[0m\u001b[0;34m\u001b[0m\u001b[0m\n\u001b[1;32m      3\u001b[0m \u001b[0mn\u001b[0m\u001b[0;34m,\u001b[0m \u001b[0mbins\u001b[0m\u001b[0;34m,\u001b[0m \u001b[0mpatches\u001b[0m \u001b[0;34m=\u001b[0m \u001b[0mplt\u001b[0m\u001b[0;34m.\u001b[0m\u001b[0mhist\u001b[0m\u001b[0;34m(\u001b[0m\u001b[0mx\u001b[0m\u001b[0;34m,\u001b[0m \u001b[0mnum_bins\u001b[0m\u001b[0;34m,\u001b[0m \u001b[0mfacecolor\u001b[0m\u001b[0;34m=\u001b[0m\u001b[0;34m'blue'\u001b[0m\u001b[0;34m,\u001b[0m \u001b[0malpha\u001b[0m\u001b[0;34m=\u001b[0m\u001b[0;36m0.5\u001b[0m\u001b[0;34m)\u001b[0m\u001b[0;34m\u001b[0m\u001b[0m\n\u001b[1;32m      4\u001b[0m \u001b[0mplt\u001b[0m\u001b[0;34m.\u001b[0m\u001b[0mxlabel\u001b[0m\u001b[0;34m(\u001b[0m\u001b[0;34m\"edge weight\"\u001b[0m\u001b[0;34m)\u001b[0m\u001b[0;34m\u001b[0m\u001b[0m\n\u001b[1;32m      5\u001b[0m \u001b[0mplt\u001b[0m\u001b[0;34m.\u001b[0m\u001b[0mylabel\u001b[0m\u001b[0;34m(\u001b[0m\u001b[0;34m\"frequency\"\u001b[0m\u001b[0;34m)\u001b[0m\u001b[0;34m\u001b[0m\u001b[0m\n",
      "\u001b[0;31mAttributeError\u001b[0m: 'tuple' object has no attribute 'weight'"
     ]
    }
   ],
   "source": [
    "x = [min(e.weight, 100) for e in g.edges]\n",
    "num_bins = 25\n",
    "n, bins, patches = plt.hist(x, num_bins, facecolor='blue', alpha=0.5)\n",
    "plt.xlabel(\"edge weight\")\n",
    "plt.ylabel(\"frequency\")\n",
    "plt.title(\"distribution of edge weights (capped at 100)\")\n",
    "plt.show()"
   ]
  },
  {
   "cell_type": "code",
   "execution_count": 121,
   "metadata": {},
   "outputs": [
    {
     "data": {
      "text/plain": [
       "159731"
      ]
     },
     "execution_count": 121,
     "metadata": {},
     "output_type": "execute_result"
    }
   ],
   "source": [
    "len(g.edges)"
   ]
  },
  {
   "cell_type": "code",
   "execution_count": 134,
   "metadata": {},
   "outputs": [
    {
     "name": "stdout",
     "output_type": "stream",
     "text": [
      "159731\n"
     ]
    }
   ],
   "source": [
    "edges_dict = {}\n",
    "for e in g.edges:\n",
    "    edges_dict[(e.src, e.dest)] = e.weight\n",
    "print(len(edges_dict))"
   ]
  },
  {
   "cell_type": "code",
   "execution_count": 135,
   "metadata": {},
   "outputs": [
    {
     "name": "stdout",
     "output_type": "stream",
     "text": [
      "156744\n"
     ]
    }
   ],
   "source": [
    "for k in list(edges_dict.keys()):\n",
    "    k1, k2 = k\n",
    "    if k in edges_dict and (k2,k1) in edges_dict:\n",
    "        w1, w2 = edges_dict[k], edges_dict[(k2, k1)]\n",
    "        if w1/w2 > 4:\n",
    "            del edges_dict[(k2, k1)]\n",
    "        elif w2/w1 > 4:\n",
    "            del edges_dict[k]\n",
    "print(len(edges_dict))"
   ]
  },
  {
   "cell_type": "code",
   "execution_count": 139,
   "metadata": {},
   "outputs": [
    {
     "name": "stdout",
     "output_type": "stream",
     "text": [
      "14225\n"
     ]
    }
   ],
   "source": [
    "for k in list(edges_dict.keys()):\n",
    "    if edges_dict[k] < 5:\n",
    "        del edges_dict[k]\n",
    "print(len(edges_dict))    "
   ]
  },
  {
   "cell_type": "code",
   "execution_count": 141,
   "metadata": {},
   "outputs": [
    {
     "name": "stdout",
     "output_type": "stream",
     "text": [
      "922\n"
     ]
    }
   ],
   "source": [
    "n = set()\n",
    "for k in list(edges_dict.keys()):\n",
    "    n.add(k[0])\n",
    "    n.add(k[1])\n",
    "print(len(n))"
   ]
  },
  {
   "cell_type": "code",
   "execution_count": 142,
   "metadata": {},
   "outputs": [
    {
     "data": {
      "text/plain": [
       "3625"
      ]
     },
     "execution_count": 142,
     "metadata": {},
     "output_type": "execute_result"
    }
   ],
   "source": [
    "len(g.nodes)"
   ]
  },
  {
   "cell_type": "code",
   "execution_count": 146,
   "metadata": {
    "collapsed": true
   },
   "outputs": [],
   "source": [
    "def export_edges(edges, name:str):\n",
    "    nodes = set([e.src for e in edges]).intersection(set([e.dest for e in edges]))\n",
    "    fname = name+\".dot\"\n",
    "    with open(fname, \"w\") as f:\n",
    "        f.write(\"digraph course_graph {\\n\")\n",
    "        for e in edges:\n",
    "            f.write('{} -> {} [ label = \"{}\" ];\\n'.format(e.src, e.dest, e.weight))\n",
    "        for n in nodes:\n",
    "            f.write('{} [ label = \"{}\" ];\\n'.format(n,n))\n",
    "        f.write(\"}\\n\")\n",
    "    print(\"done! exported as {}.dot\".format(name))"
   ]
  },
  {
   "cell_type": "code",
   "execution_count": 149,
   "metadata": {},
   "outputs": [
    {
     "name": "stdout",
     "output_type": "stream",
     "text": [
      "done! exported as test2.dot\n"
     ]
    }
   ],
   "source": [
    "new_edges = [e for e in g.edges if (e.src, e.dest) in edges_dict and e.weight > 250]\n",
    "export_edges(new_edges, \"test2\")"
   ]
  },
  {
   "cell_type": "code",
   "execution_count": null,
   "metadata": {
    "collapsed": true
   },
   "outputs": [],
   "source": []
  }
 ],
 "metadata": {
  "kernelspec": {
   "display_name": "Python 3",
   "language": "python",
   "name": "python3"
  },
  "language_info": {
   "codemirror_mode": {
    "name": "ipython",
    "version": 3
   },
   "file_extension": ".py",
   "mimetype": "text/x-python",
   "name": "python",
   "nbconvert_exporter": "python",
   "pygments_lexer": "ipython3",
   "version": "3.7.1"
  }
 },
 "nbformat": 4,
 "nbformat_minor": 2
}
