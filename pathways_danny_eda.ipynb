{
 "cells": [
  {
   "cell_type": "code",
   "execution_count": 60,
   "metadata": {},
   "outputs": [],
   "source": [
    "import importlib\n",
    "import test_extract\n",
    "import graph\n",
    "importlib.reload(test_extract)\n",
    "importlib.reload(graph)\n",
    "import time"
   ]
  },
  {
   "cell_type": "code",
   "execution_count": 61,
   "metadata": {},
   "outputs": [
    {
     "name": "stdout",
     "output_type": "stream",
     "text": [
      "1.1629676818847656\n"
     ]
    }
   ],
   "source": [
    "start = time.time()\n",
    "data = test_extract.Data(\"./CIS_enrollment.csv\")\n",
    "end = time.time()\n",
    "print(end - start)"
   ]
  },
  {
   "cell_type": "markdown",
   "metadata": {},
   "source": [
    "# Data model test"
   ]
  },
  {
   "cell_type": "code",
   "execution_count": 62,
   "metadata": {},
   "outputs": [
    {
     "data": {
      "text/plain": [
       "(3629, 4394)"
      ]
     },
     "execution_count": 62,
     "metadata": {},
     "output_type": "execute_result"
    }
   ],
   "source": [
    "len(data.courses),len(data.students)"
   ]
  },
  {
   "cell_type": "code",
   "execution_count": 63,
   "metadata": {},
   "outputs": [
    {
     "name": "stdout",
     "output_type": "stream",
     "text": [
      "{'id': '321398', 'major': 'Computer Science', 'courses': ['Basketball', 'Phys III-Osc Waves & Quan Phys', 'Advanced Computer Architecture', 'Engineering Seminar', 'Beginning Swim', 'Archery', 'Short Course in MATLAB', 'MicroElectro Mechanical System', 'Obj-Oriented Prog & Data Struc', 'Advanced Digital VLSI', 'Engineering Communications', 'Intro Microeconomics', 'Networks', 'Lasers and Optoelectronics', 'Linear Algebra for Engineers', 'Marketing', 'Intro to Business Management', 'Advanced Computer Architecture', 'Intro to Scientific Comp', 'Intro to Circ Elec & Comp Engr', 'Digital Logic & Computer Org.', 'Intro Computing Using Java', 'Intro to Microelectronics', 'Digital VLSI Design', 'Embedded Systems', 'Computer Graphics I', 'Complex Digital ASIC Design', 'Intro to Entrep & Engr Enterpr', 'Datacenter Networks & Services', 'Fiber & Integrated Optics', 'Differential Equations Engrs', 'Finance', 'Computer Architecture', 'Signals and Information', 'Physics I: Mechanics & Heat', 'Multivariable Calculus Engrs', 'Advanced Systems', 'Advanced Volleyball', 'Physics II: Electromagnetism', 'Cooperative Workshop MATH 1920'], 'terms': [('ECE3150', (2010, 0)), ('ECE4320', (2010, 2)), ('CS3220', (2010, 0)), ('CS4620', (2010, 2)), ('ECE4740', (2012, 0)), ('ENGRG1050', (2008, 2)), ('MATH2930', (2009, 0)), ('PE1100', (2008, 2)), ('ECE2100', (2009, 2)), ('PE1571', (2008, 2)), ('PHYS2214', (2009, 2)), ('ECE4750', (2010, 2)), ('ECE3140', (2010, 0)), ('PHYS2213', (2009, 0)), ('MATH1920', (2008, 2)), ('ENGRI1270', (2009, 0)), ('CS6452', (2014, 0)), ('PE1560', (2011, 2)), ('ENGRD2110', (2009, 2)), ('ECE2200', (2010, 0)), ('ENGRC3500', (2011, 2)), ('CS6410', (2013, 2)), ('ECE5740', (2012, 2)), ('AEM1200', (2012, 0)), ('CS5420', (2011, 2)), ('CS1110', (2008, 2)), ('ECON1110', (2010, 0)), ('ECE5750', (2012, 0)), ('ECE4300', (2011, 2)), ('PHYS1112', (2008, 2)), ('PE1520', (2011, 2)), ('SOC2090', (2009, 0)), ('AEM3240', (2011, 2)), ('MATH2940', (2009, 2)), ('ENGRD2300', (2009, 2)), ('AEM2400', (2010, 2)), ('ECE5745', (2013, 0)), ('CS1132', (2009, 2)), ('ENGRG1092', (2008, 2)), ('ECE4370', (2012, 0))], 'term_numbers': {'ENGRG1050': 1, 'PE1100': 1, 'PE1571': 1, 'MATH1920': 1, 'CS1110': 1, 'PHYS1112': 1, 'ENGRG1092': 1, 'MATH2930': 2, 'PHYS2213': 2, 'ENGRI1270': 2, 'SOC2090': 2, 'ECE2100': 3, 'PHYS2214': 3, 'ENGRD2110': 3, 'MATH2940': 3, 'ENGRD2300': 3, 'CS1132': 3, 'ECE3150': 4, 'CS3220': 4, 'ECE3140': 4, 'ECE2200': 4, 'ECON1110': 4, 'ECE4320': 5, 'CS4620': 5, 'ECE4750': 5, 'AEM2400': 5, 'PE1560': 6, 'ENGRC3500': 6, 'CS5420': 6, 'ECE4300': 6, 'PE1520': 6, 'AEM3240': 6, 'ECE4740': 7, 'AEM1200': 7, 'ECE5750': 7, 'ECE4370': 7, 'ECE5740': 8, 'ECE5745': 9, 'CS6410': 10, 'CS6452': 11}}\n"
     ]
    }
   ],
   "source": [
    "print(list(data.students.values())[0])"
   ]
  },
  {
   "cell_type": "code",
   "execution_count": 65,
   "metadata": {},
   "outputs": [
    {
     "name": "stdout",
     "output_type": "stream",
     "text": [
      "{'id': '2612072', 'major': 'Computer Science', 'courses': ['Human-Computer Interaction Des', 'Intro Analysis of Algorithms', 'Engineering Seminar', 'Calculus For Engineers', 'Obj-Oriented Prog & Data Struc', 'Data Struct & Functional Progr', 'Machine Learning', 'Analytics-driven Game Design', 'Operating Systems', 'Linear Algebra for Engineers', 'Outdoor Advanced Tennis', 'Engineering General Chemistry', 'Introduction to Psychology', 'Language and Information', 'Cooperative Workshop CS 1110', 'Intro Computing Using Java', 'Foundations of Artif Inllgnce', 'Systems Programming', 'Communication and Technology', 'Prac in A I', 'Materials for Energy Systems', 'Intro Rapid Prototype/Phys Com', 'Discrete Structures', 'Differential Equations Engrs', 'Intermed Design&Prog for Web', 'Introduction to Wines', 'Physics I: Mechanics & Heat', 'Multivariable Calculus Engrs', 'Networks', 'Basic Engr Probability & Stats', 'Physics II: Electromagnetism'], 'terms': [('INFO2450', (2018, 2)), ('CS1110', (2015, 2)), ('CS4700', (2018, 0)), ('INFO2300', (2018, 0)), ('CS3410', (2017, 0)), ('CS2800', (2017, 0)), ('PHYS1112', (2016, 0)), ('PE1447', (2015, 2)), ('CS4780', (2018, 2)), ('INFO4320', (2017, 2)), ('MATH2930', (2017, 0)), ('PHYS2213', (2017, 0)), ('CS2800', (2016, 2)), ('MATH1920', (2016, 0)), ('MATH2940', (2016, 2)), ('ENGRD2110', (2016, 0)), ('INFO4154', (2018, 2)), ('MATH1910', (2015, 2)), ('CS4410', (2017, 2)), ('PHYS2213', (2016, 2)), ('INFO3450', (2018, 2)), ('CHEM2090', (2015, 2)), ('ENGRG1050', (2015, 2)), ('ENGRG1010', (2015, 2)), ('ENGRI1140', (2016, 0)), ('PSYCH1101', (2017, 2)), ('ENGRD2700', (2017, 0)), ('CS4300', (2018, 0)), ('CS4820', (2018, 0)), ('HADM4300', (2018, 2)), ('CS4701', (2018, 0)), ('CS3110', (2017, 2)), ('CS2850', (2017, 2))], 'term_numbers': {'CS1110': 1, 'PE1447': 1, 'MATH1910': 1, 'CHEM2090': 1, 'ENGRG1050': 1, 'ENGRG1010': 1, 'PHYS1112': 2, 'MATH1920': 2, 'ENGRD2110': 2, 'ENGRI1140': 2, 'CS2800': 4, 'MATH2940': 3, 'PHYS2213': 4, 'CS3410': 4, 'MATH2930': 4, 'ENGRD2700': 4, 'INFO4320': 5, 'CS4410': 5, 'PSYCH1101': 5, 'CS3110': 5, 'CS2850': 5, 'CS4700': 6, 'INFO2300': 6, 'CS4300': 6, 'CS4820': 6, 'CS4701': 6, 'INFO2450': 7, 'CS4780': 7, 'INFO4154': 7, 'INFO3450': 7, 'HADM4300': 7}}\n"
     ]
    }
   ],
   "source": [
    "print(list(data.courses[\"CS1110\"].students)[0])"
   ]
  },
  {
   "cell_type": "markdown",
   "metadata": {},
   "source": [
    "# Graph model test"
   ]
  },
  {
   "cell_type": "code",
   "execution_count": 66,
   "metadata": {},
   "outputs": [],
   "source": [
    "g = graph.Graph()"
   ]
  },
  {
   "cell_type": "code",
   "execution_count": 72,
   "metadata": {},
   "outputs": [
    {
     "name": "stdout",
     "output_type": "stream",
     "text": [
      "250\n",
      "500\n",
      "750\n",
      "1000\n",
      "1250\n",
      "1500\n",
      "1750\n",
      "2000\n",
      "2250\n",
      "2500\n",
      "2750\n",
      "3000\n",
      "3250\n",
      "3500\n",
      "77.4405779838562\n"
     ]
    }
   ],
   "source": [
    "start = time.time()\n",
    "c = 1\n",
    "for cname1 in data.courses:\n",
    "    if c % 250 == 0:\n",
    "        print(c)\n",
    "    for cname2 in data.courses:\n",
    "        if cname2 == cname1:\n",
    "            continue\n",
    "        course = data.courses[cname1]\n",
    "        count = 0\n",
    "        for s in course.students:\n",
    "            if cname2 in s.courses and s.term_numbers[cname2] == s.term_numbers[cname1] + 1:\n",
    "                count += 1\n",
    "        if count > 0:\n",
    "            g.addEdge(cname1, cname2, len(edge_students))\n",
    "    c += 1\n",
    "end = time.time()\n",
    "print(end - start)"
   ]
  },
  {
   "cell_type": "code",
   "execution_count": 55,
   "metadata": {},
   "outputs": [
    {
     "data": {
      "text/plain": [
       "0"
      ]
     },
     "execution_count": 55,
     "metadata": {},
     "output_type": "execute_result"
    }
   ],
   "source": [
    "len(g.filterEdges(lambda e: e.weight > 10))"
   ]
  },
  {
   "cell_type": "code",
   "execution_count": null,
   "metadata": {},
   "outputs": [],
   "source": []
  },
  {
   "cell_type": "code",
   "execution_count": null,
   "metadata": {
    "collapsed": true
   },
   "outputs": [],
   "source": []
  },
  {
   "cell_type": "code",
   "execution_count": null,
   "metadata": {},
   "outputs": [],
   "source": []
  },
  {
   "cell_type": "code",
   "execution_count": null,
   "metadata": {
    "collapsed": true
   },
   "outputs": [],
   "source": []
  },
  {
   "cell_type": "code",
   "execution_count": null,
   "metadata": {
    "collapsed": true
   },
   "outputs": [],
   "source": []
  },
  {
   "cell_type": "code",
   "execution_count": null,
   "metadata": {
    "collapsed": true
   },
   "outputs": [],
   "source": []
  }
 ],
 "metadata": {
  "kernelspec": {
   "display_name": "Python 3",
   "language": "python",
   "name": "python3"
  },
  "language_info": {
   "codemirror_mode": {
    "name": "ipython",
    "version": 3
   },
   "file_extension": ".py",
   "mimetype": "text/x-python",
   "name": "python",
   "nbconvert_exporter": "python",
   "pygments_lexer": "ipython3",
   "version": "3.6.0"
  }
 },
 "nbformat": 4,
 "nbformat_minor": 2
}
