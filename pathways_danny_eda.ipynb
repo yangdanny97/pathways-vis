{
 "cells": [
  {
   "cell_type": "code",
   "execution_count": 110,
   "metadata": {},
   "outputs": [],
   "source": [
    "import importlib\n",
    "import test_extract\n",
    "import graph\n",
    "importlib.reload(test_extract)\n",
    "importlib.reload(graph)\n",
    "import time\n",
    "import matplotlib.pyplot as plt"
   ]
  },
  {
   "cell_type": "code",
   "execution_count": 92,
   "metadata": {},
   "outputs": [
    {
     "name": "stdout",
     "output_type": "stream",
     "text": [
      "1.5620460510253906\n"
     ]
    }
   ],
   "source": [
    "start = time.time()\n",
    "data = test_extract.Data(\"./data/CIS_enrollment.csv\")\n",
    "end = time.time()\n",
    "print(end - start)"
   ]
  },
  {
   "cell_type": "markdown",
   "metadata": {},
   "source": [
    "# Data model test"
   ]
  },
  {
   "cell_type": "code",
   "execution_count": 93,
   "metadata": {},
   "outputs": [
    {
     "data": {
      "text/plain": [
       "(3629, 4394)"
      ]
     },
     "execution_count": 93,
     "metadata": {},
     "output_type": "execute_result"
    }
   ],
   "source": [
    "len(data.courses),len(data.students)"
   ]
  },
  {
   "cell_type": "code",
   "execution_count": 94,
   "metadata": {},
   "outputs": [
    {
     "name": "stdout",
     "output_type": "stream",
     "text": [
      "{'id': '321398', 'major': 'Computer Science', 'courses': ['Marketing', 'Linear Algebra for Engineers', 'Differential Equations Engrs', 'Signals and Information', 'Finance', 'Engineering Communications', 'Advanced Digital VLSI', 'Beginning Swim', 'Short Course in MATLAB', 'Advanced Computer Architecture', 'Intro to Microelectronics', 'Intro to Circ Elec & Comp Engr', 'Multivariable Calculus Engrs', 'Physics I: Mechanics & Heat', 'Computer Architecture', 'Lasers and Optoelectronics', 'Intro to Entrep & Engr Enterpr', 'Advanced Computer Architecture', 'Digital VLSI Design', 'Physics II: Electromagnetism', 'Networks', 'Engineering Seminar', 'Basketball', 'Phys III-Osc Waves & Quan Phys', 'Archery', 'Intro to Scientific Comp', 'Complex Digital ASIC Design', 'Obj-Oriented Prog & Data Struc', 'MicroElectro Mechanical System', 'Datacenter Networks & Services', 'Cooperative Workshop MATH 1920', 'Computer Graphics I', 'Fiber & Integrated Optics', 'Intro Computing Using Java', 'Advanced Systems', 'Embedded Systems', 'Intro to Business Management', 'Advanced Volleyball', 'Intro Microeconomics', 'Digital Logic & Computer Org.'], 'terms': [('ECE3150', (2010, 0)), ('ECE4320', (2010, 2)), ('CS3220', (2010, 0)), ('CS4620', (2010, 2)), ('ECE4740', (2012, 0)), ('ENGRG1050', (2008, 2)), ('MATH2930', (2009, 0)), ('PE1100', (2008, 2)), ('ECE2100', (2009, 2)), ('PE1571', (2008, 2)), ('PHYS2214', (2009, 2)), ('ECE4750', (2010, 2)), ('ECE3140', (2010, 0)), ('PHYS2213', (2009, 0)), ('MATH1920', (2008, 2)), ('ENGRI1270', (2009, 0)), ('CS6452', (2014, 0)), ('PE1560', (2011, 2)), ('ENGRD2110', (2009, 2)), ('ECE2200', (2010, 0)), ('ENGRC3500', (2011, 2)), ('CS6410', (2013, 2)), ('ECE5740', (2012, 2)), ('AEM1200', (2012, 0)), ('CS5420', (2011, 2)), ('CS1110', (2008, 2)), ('ECON1110', (2010, 0)), ('ECE5750', (2012, 0)), ('ECE4300', (2011, 2)), ('PHYS1112', (2008, 2)), ('PE1520', (2011, 2)), ('SOC2090', (2009, 0)), ('AEM3240', (2011, 2)), ('MATH2940', (2009, 2)), ('ENGRD2300', (2009, 2)), ('AEM2400', (2010, 2)), ('ECE5745', (2013, 0)), ('CS1132', (2009, 2)), ('ENGRG1092', (2008, 2)), ('ECE4370', (2012, 0))], 'term_numbers': {'ENGRG1050': 1, 'PE1100': 1, 'PE1571': 1, 'MATH1920': 1, 'CS1110': 1, 'PHYS1112': 1, 'ENGRG1092': 1, 'MATH2930': 2, 'PHYS2213': 2, 'ENGRI1270': 2, 'SOC2090': 2, 'ECE2100': 3, 'PHYS2214': 3, 'ENGRD2110': 3, 'MATH2940': 3, 'ENGRD2300': 3, 'CS1132': 3, 'ECE3150': 4, 'CS3220': 4, 'ECE3140': 4, 'ECE2200': 4, 'ECON1110': 4, 'ECE4320': 5, 'CS4620': 5, 'ECE4750': 5, 'AEM2400': 5, 'PE1560': 6, 'ENGRC3500': 6, 'CS5420': 6, 'ECE4300': 6, 'PE1520': 6, 'AEM3240': 6, 'ECE4740': 7, 'AEM1200': 7, 'ECE5750': 7, 'ECE4370': 7, 'ECE5740': 8, 'ECE5745': 9, 'CS6410': 10, 'CS6452': 11}}\n"
     ]
    }
   ],
   "source": [
    "print(list(data.students.values())[0])"
   ]
  },
  {
   "cell_type": "code",
   "execution_count": 95,
   "metadata": {},
   "outputs": [
    {
     "name": "stdout",
     "output_type": "stream",
     "text": [
      "{'id': '3446085', 'major': 'Computer Science', 'courses': ['Introduction to Japan', 'Walking Meditation', 'Intro Analysis of Algorithms', 'Calculus For Engineers', 'Linear Algebra for Engineers', 'English Words Hist&Mysteries', 'Digital Logic & Computer Org.', 'The Nature of the Universe', 'Obj-Oriented Prog & Data Struc', 'Multivariable Calculus Engrs', 'Intro Computing Using Java', 'Outdoor Beginning Tennis', 'Discrete Structures', 'Intro Microeconomics'], 'terms': [('CS1110', (2017, 2)), ('MATH1920', (2018, 0)), ('ECON1110', (2018, 2)), ('PE1445', (2017, 2)), ('MATH1910', (2017, 2)), ('ASIAN2211', (2017, 2)), ('MATH2940', (2018, 2)), ('LING1109', (2018, 0)), ('ECE2300', (2018, 2)), ('ASTRO1101', (2018, 2)), ('CS2800', (2018, 0)), ('PE1273', (2018, 0)), ('CS4820', (2018, 2)), ('CS2110', (2018, 0))], 'term_numbers': {'CS1110': 1, 'PE1445': 1, 'MATH1910': 1, 'ASIAN2211': 1, 'MATH1920': 2, 'LING1109': 2, 'CS2800': 2, 'PE1273': 2, 'CS2110': 2, 'ECON1110': 3, 'MATH2940': 3, 'ECE2300': 3, 'ASTRO1101': 3, 'CS4820': 3}}\n"
     ]
    }
   ],
   "source": [
    "print(list(data.courses[\"CS1110\"].students)[0])"
   ]
  },
  {
   "cell_type": "markdown",
   "metadata": {},
   "source": [
    "# Graph model test"
   ]
  },
  {
   "cell_type": "code",
   "execution_count": 111,
   "metadata": {},
   "outputs": [],
   "source": [
    "g = graph.Graph()"
   ]
  },
  {
   "cell_type": "code",
   "execution_count": 112,
   "metadata": {},
   "outputs": [
    {
     "name": "stdout",
     "output_type": "stream",
     "text": [
      "250\n",
      "500\n",
      "750\n",
      "1000\n",
      "1250\n",
      "1500\n",
      "1750\n",
      "2000\n",
      "2250\n",
      "2500\n",
      "2750\n",
      "3000\n",
      "3250\n",
      "3500\n",
      "79.11382818222046\n"
     ]
    }
   ],
   "source": [
    "start = time.time()\n",
    "c = 1\n",
    "for cname1 in data.courses:\n",
    "    if c % 250 == 0:\n",
    "        print(c)\n",
    "    for cname2 in data.courses:\n",
    "        if cname2 == cname1:\n",
    "            continue\n",
    "        course = data.courses[cname1]\n",
    "        count = 0\n",
    "        for s in course.students:\n",
    "            if cname2 in s.term_numbers and s.term_numbers[cname2] == s.term_numbers[cname1] + 1:\n",
    "                count += 1\n",
    "        if count > 0:\n",
    "            g.addEdge(cname1, cname2, count)\n",
    "    c += 1\n",
    "end = time.time()\n",
    "print(end - start)"
   ]
  },
  {
   "cell_type": "code",
   "execution_count": 118,
   "metadata": {},
   "outputs": [
    {
     "name": "stdout",
     "output_type": "stream",
     "text": [
      "(MATH2210,CS2800,265)\n",
      "(MATH2210,MATH2220,253)\n",
      "(MATH2940,CS2800,443)\n",
      "(MATH2940,MATH2930,353)\n",
      "(MATH2940,CS3110,580)\n",
      "(MATH2940,ENGRD2700,372)\n",
      "(MATH2940,CS3410,481)\n",
      "(MATH2940,CS2850,258)\n",
      "(ENGRD2110,MATH2940,267)\n",
      "(ENGRD2110,CS2800,343)\n",
      "(ENGRD2110,CS3110,282)\n",
      "(PHYS1112,MATH2940,470)\n",
      "(PHYS1112,CS2800,416)\n",
      "(PHYS1112,PHYS2213,533)\n",
      "(ENGRG1050,MATH2940,757)\n",
      "(ENGRG1050,ENGRD2110,363)\n",
      "(ENGRG1050,PHYS1112,423)\n",
      "(ENGRG1050,PE1300,267)\n",
      "(ENGRG1050,MATH1920,490)\n",
      "(ENGRG1050,CHEM2090,334)\n",
      "(ENGRG1050,CS2800,636)\n",
      "(ENGRG1050,MATH2930,459)\n",
      "(ENGRG1050,PHYS2213,423)\n",
      "(ENGRG1050,CS2110,370)\n",
      "(INFO2040,INFO2300,252)\n",
      "(PE1300,CS2800,266)\n",
      "(MATH1920,MATH2940,1148)\n",
      "(MATH1920,ENGRD2110,344)\n",
      "(MATH1920,CHEM2090,253)\n",
      "(MATH1920,CS2800,822)\n",
      "(MATH1920,MATH2930,623)\n",
      "(MATH1920,PHYS2213,753)\n",
      "(MATH1920,CS2110,381)\n",
      "(CS1110,MATH2940,442)\n",
      "(CS1110,ENGRD2110,323)\n",
      "(CS1110,MATH1920,288)\n",
      "(CS1110,CS2800,703)\n",
      "(CS1110,CS2111,331)\n",
      "(CS1110,PHYS2213,262)\n",
      "(CS1110,CS2110,1107)\n",
      "(CHEM2090,MATH2940,325)\n",
      "(CHEM2090,PHYS1112,339)\n",
      "(CHEM2090,MATH1920,269)\n",
      "(CHEM2090,CS2800,347)\n",
      "(CHEM2090,PHYS2213,295)\n",
      "(CS2800,MATH2940,356)\n",
      "(CS2800,MATH2930,257)\n",
      "(CS2800,CS3110,1016)\n",
      "(CS2800,ENGRD2700,353)\n",
      "(CS2800,CS3410,822)\n",
      "(CS2800,CS4820,327)\n",
      "(CS2800,CS2850,321)\n",
      "(MATH2930,MATH2940,557)\n",
      "(MATH2930,CS2800,325)\n",
      "(MATH1910,PHYS1112,275)\n",
      "(MATH1910,MATH1920,514)\n",
      "(CS3110,CS4701,254)\n",
      "(CS3110,CS3410,649)\n",
      "(CS3110,CS4820,860)\n",
      "(CS3110,CS4700,307)\n",
      "(CS4410,CS4820,468)\n",
      "(CS4701,CS4820,256)\n",
      "(PHYS2213,MATH2940,313)\n",
      "(PHYS2213,CS2800,292)\n",
      "(PHYS2213,CS3110,298)\n",
      "(PHYS2213,CS3410,294)\n",
      "(CS2110,MATH2940,329)\n",
      "(CS2110,CS2800,770)\n",
      "(CS2110,CS3110,526)\n",
      "(CS2110,CS3410,389)\n",
      "(INFO1300,INFO2300,374)\n",
      "(CS3410,CS3110,572)\n",
      "(CS3410,CS4410,825)\n",
      "(CS3410,CS4701,275)\n",
      "(CS3410,CS4820,251)\n",
      "(CS3410,CS4700,337)\n",
      "(CS4820,CS4410,624)\n",
      "(CS4820,CS4701,358)\n",
      "(CS4820,CS4780,270)\n",
      "(CS4820,CS4700,385)\n",
      "(CS4700,CS4820,315)\n",
      "(CS2850,CS4820,299)\n"
     ]
    }
   ],
   "source": [
    "for e in g.filterEdges(lambda e: e.weight > 250):\n",
    "    print(str(e))"
   ]
  },
  {
   "cell_type": "code",
   "execution_count": 116,
   "metadata": {
    "collapsed": true
   },
   "outputs": [],
   "source": [
    "def export_graph(g, name:str, threshold=0):\n",
    "    edges = [e for e in g.edges if e.weight >= threshold]\n",
    "    nodes = set([e.src for e in edges]).intersection(set([e.dest for e in edges]))\n",
    "    fname = name+\".dot\"\n",
    "    with open(fname, \"w\") as f:\n",
    "        f.write(\"digraph course_graph {\\n\")\n",
    "        for e in edges:\n",
    "            f.write('{} -> {} [ label = \"{}\" ];\\n'.format(e.src, e.dest, e.weight))\n",
    "        for n in nodes:\n",
    "            f.write('{} [ label = \"{}\" ];\\n'.format(n,n))\n",
    "        f.write(\"}\\n\")\n",
    "    print(\"done! exported as {}.dot\".format(name))"
   ]
  },
  {
   "cell_type": "code",
   "execution_count": 119,
   "metadata": {},
   "outputs": [
    {
     "name": "stdout",
     "output_type": "stream",
     "text": [
      "done! exported as test.dot\n"
     ]
    }
   ],
   "source": [
    "export_graph(g, \"test\",250)"
   ]
  },
  {
   "cell_type": "code",
   "execution_count": 120,
   "metadata": {},
   "outputs": [
    {
     "data": {
      "image/png": "[encoded data removed]",
      "text/plain": [
       "<matplotlib.figure.Figure at 0x10f937d68>"
      ]
     },
     "metadata": {},
     "output_type": "display_data"
    }
   ],
   "source": [
    "x = [min(e.weight, 100) for e in g.edges]\n",
    "num_bins = 25\n",
    "n, bins, patches = plt.hist(x, num_bins, facecolor='blue', alpha=0.5)\n",
    "plt.xlabel(\"edge weight\")\n",
    "plt.ylabel(\"frequency\")\n",
    "plt.title(\"distribution of edge weights (capped at 100)\")\n",
    "plt.show()"
   ]
  },
  {
   "cell_type": "code",
   "execution_count": 121,
   "metadata": {},
   "outputs": [
    {
     "data": {
      "text/plain": [
       "159731"
      ]
     },
     "execution_count": 121,
     "metadata": {},
     "output_type": "execute_result"
    }
   ],
   "source": [
    "len(g.edges)"
   ]
  },
  {
   "cell_type": "code",
   "execution_count": 134,
   "metadata": {},
   "outputs": [
    {
     "name": "stdout",
     "output_type": "stream",
     "text": [
      "159731\n"
     ]
    }
   ],
   "source": [
    "edges_dict = {}\n",
    "for e in g.edges:\n",
    "    edges_dict[(e.src, e.dest)] = e.weight\n",
    "print(len(edges_dict))"
   ]
  },
  {
   "cell_type": "code",
   "execution_count": 135,
   "metadata": {},
   "outputs": [
    {
     "name": "stdout",
     "output_type": "stream",
     "text": [
      "156744\n"
     ]
    }
   ],
   "source": [
    "for k in list(edges_dict.keys()):\n",
    "    k1, k2 = k\n",
    "    if k in edges_dict and (k2,k1) in edges_dict:\n",
    "        w1, w2 = edges_dict[k], edges_dict[(k2, k1)]\n",
    "        if w1/w2 > 4:\n",
    "            del edges_dict[(k2, k1)]\n",
    "        elif w2/w1 > 4:\n",
    "            del edges_dict[k]\n",
    "print(len(edges_dict))"
   ]
  },
  {
   "cell_type": "code",
   "execution_count": 139,
   "metadata": {},
   "outputs": [
    {
     "name": "stdout",
     "output_type": "stream",
     "text": [
      "14225\n"
     ]
    }
   ],
   "source": [
    "for k in list(edges_dict.keys()):\n",
    "    if edges_dict[k] < 5:\n",
    "        del edges_dict[k]\n",
    "print(len(edges_dict))    "
   ]
  },
  {
   "cell_type": "code",
   "execution_count": 141,
   "metadata": {},
   "outputs": [
    {
     "name": "stdout",
     "output_type": "stream",
     "text": [
      "922\n"
     ]
    }
   ],
   "source": [
    "n = set()\n",
    "for k in list(edges_dict.keys()):\n",
    "    n.add(k[0])\n",
    "    n.add(k[1])\n",
    "print(len(n))"
   ]
  },
  {
   "cell_type": "code",
   "execution_count": 142,
   "metadata": {},
   "outputs": [
    {
     "data": {
      "text/plain": [
       "3625"
      ]
     },
     "execution_count": 142,
     "metadata": {},
     "output_type": "execute_result"
    }
   ],
   "source": [
    "len(g.nodes)"
   ]
  },
  {
   "cell_type": "code",
   "execution_count": 146,
   "metadata": {
    "collapsed": true
   },
   "outputs": [],
   "source": [
    "def export_edges(edges, name:str):\n",
    "    nodes = set([e.src for e in edges]).intersection(set([e.dest for e in edges]))\n",
    "    fname = name+\".dot\"\n",
    "    with open(fname, \"w\") as f:\n",
    "        f.write(\"digraph course_graph {\\n\")\n",
    "        for e in edges:\n",
    "            f.write('{} -> {} [ label = \"{}\" ];\\n'.format(e.src, e.dest, e.weight))\n",
    "        for n in nodes:\n",
    "            f.write('{} [ label = \"{}\" ];\\n'.format(n,n))\n",
    "        f.write(\"}\\n\")\n",
    "    print(\"done! exported as {}.dot\".format(name))"
   ]
  },
  {
   "cell_type": "code",
   "execution_count": 149,
   "metadata": {},
   "outputs": [
    {
     "name": "stdout",
     "output_type": "stream",
     "text": [
      "done! exported as test2.dot\n"
     ]
    }
   ],
   "source": [
    "new_edges = [e for e in g.edges if (e.src, e.dest) in edges_dict and e.weight > 250]\n",
    "export_edges(new_edges, \"test2\")"
   ]
  },
  {
   "cell_type": "code",
   "execution_count": null,
   "metadata": {
    "collapsed": true
   },
   "outputs": [],
   "source": []
  }
 ],
 "metadata": {
  "kernelspec": {
   "display_name": "Python 3",
   "language": "python",
   "name": "python3"
  },
  "language_info": {
   "codemirror_mode": {
    "name": "ipython",
    "version": 3
   },
   "file_extension": ".py",
   "mimetype": "text/x-python",
   "name": "python",
   "nbconvert_exporter": "python",
   "pygments_lexer": "ipython3",
   "version": "3.6.0"
  }
 },
 "nbformat": 4,
 "nbformat_minor": 2
}
