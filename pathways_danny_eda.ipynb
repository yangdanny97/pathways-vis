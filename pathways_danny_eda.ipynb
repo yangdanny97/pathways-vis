{
 "cells": [
  {
   "cell_type": "code",
   "execution_count": 3,
   "metadata": {
    "collapsed": true
   },
   "outputs": [],
   "source": [
    "import importlib\n",
    "import test_extract\n",
    "import graph\n",
    "importlib.reload(test_extract)\n",
    "importlib.reload(graph)\n",
    "import time\n",
    "import matplotlib.pyplot as plt"
   ]
  },
  {
   "cell_type": "code",
   "execution_count": 26,
   "metadata": {},
   "outputs": [
    {
     "name": "stdout",
     "output_type": "stream",
     "text": [
      "0.6604621410369873\n"
     ]
    }
   ],
   "source": [
    "start = time.time()\n",
    "data = test_extract.Data(\"./data/CIS_enrollment.csv\", [\"Information Science\"])\n",
    "end = time.time()\n",
    "print(end - start)"
   ]
  },
  {
   "cell_type": "markdown",
   "metadata": {},
   "source": [
    "# Data model test"
   ]
  },
  {
   "cell_type": "code",
   "execution_count": 27,
   "metadata": {},
   "outputs": [
    {
     "data": {
      "text/plain": [
       "(2372, 982)"
      ]
     },
     "execution_count": 27,
     "metadata": {},
     "output_type": "execute_result"
    }
   ],
   "source": [
    "len(data.courses),len(data.students)"
   ]
  },
  {
   "cell_type": "code",
   "execution_count": 28,
   "metadata": {},
   "outputs": [
    {
     "name": "stdout",
     "output_type": "stream",
     "text": [
      "{'id': '2109188', 'major': 'Information Science', 'courses': ['Computing Cultures', 'Physics II: Electromagnetism', 'Linear Algebra for Engineers', 'Earthquake!', 'Multivariable Calculus Engrs', 'Data Struct & Functional Progr', 'Intro Computing Using Python', 'Intro to Natural Lang Process', 'Networks II: Market Design', 'Teams and Technology', 'Data-Driven Web Applications', 'Probability Models & Inference', 'Systems Programming', 'Engineering Seminar', 'Programming Practicum', 'Operating Systems', 'Foundations of Artif Inllgnce', 'Cooperative Workshop MATH 1920', 'Prac in A I', 'Obj-Oriented Prog & Data Struc', 'Calculus For Engineers', 'Text Mining Hist & Literature', 'Networks', 'Engineering Communications', 'Information Retrieval', 'Cooperative Workshop CHEM 2090', 'Engineering General Chemistry', 'Physics I: Mechanics & Heat', 'Intro to Cognitive Science', 'Archery', 'Basic Engr Probability & Stats', 'Intro Analysis of Algorithms', 'Intro Microeconomics', 'Bowling', 'Discrete Structures', 'Introduction To Sociology'], 'terms': [('ENGRG1009', (2013, 2)), ('CS4701', (2016, 2)), ('PE1300', (2013, 2)), ('CS4820', (2016, 0)), ('INFO3350', (2015, 2)), ('ENGRC3500', (2016, 2)), ('CS4700', (2016, 2)), ('CS1710', (2015, 0)), ('ENGRD2110', (2014, 0)), ('CS2800', (2014, 2)), ('INFO4430', (2016, 2)), ('MATH1910', (2013, 2)), ('BTRY3080', (2016, 2)), ('CS2850', (2014, 2)), ('PHYS1112', (2014, 0)), ('MATH2940', (2015, 0)), ('CS2111', (2014, 0)), ('SOC1101', (2016, 0)), ('CHEM2090', (2013, 2)), ('PE1520', (2016, 2)), ('ENGRG1092', (2014, 0)), ('CS4300', (2017, 0)), ('CS4740', (2015, 2)), ('MATH1920', (2014, 0)), ('ENGRG1050', (2013, 2)), ('PHYS2213', (2014, 2)), ('ENGRD2700', (2016, 0)), ('ECON1110', (2015, 2)), ('INFO3561', (2017, 0)), ('CS4852', (2016, 0)), ('CS4410', (2016, 2)), ('CS3110', (2015, 2)), ('CS3300', (2015, 0)), ('ENGRI1220', (2014, 0)), ('CS1110', (2013, 2)), ('CS3410', (2015, 0))], 'term_numbers': {'ENGRG1009': 1, 'PE1300': 1, 'MATH1910': 1, 'CHEM2090': 1, 'ENGRG1050': 1, 'CS1110': 1, 'ENGRD2110': 2, 'PHYS1112': 2, 'CS2111': 2, 'ENGRG1092': 2, 'MATH1920': 2, 'ENGRI1220': 2, 'CS2800': 3, 'CS2850': 3, 'PHYS2213': 3, 'CS1710': 4, 'MATH2940': 4, 'CS3300': 4, 'CS3410': 4, 'INFO3350': 5, 'CS4740': 5, 'ECON1110': 5, 'CS3110': 5, 'CS4820': 6, 'SOC1101': 6, 'ENGRD2700': 6, 'CS4852': 6, 'CS4701': 7, 'ENGRC3500': 7, 'CS4700': 7, 'INFO4430': 7, 'BTRY3080': 7, 'PE1520': 7, 'CS4410': 7, 'CS4300': 8, 'INFO3561': 8}}\n"
     ]
    }
   ],
   "source": [
    "print(list(data.students.values())[0])"
   ]
  },
  {
   "cell_type": "code",
   "execution_count": 29,
   "metadata": {},
   "outputs": [
    {
     "name": "stdout",
     "output_type": "stream",
     "text": [
      "{'id': '2317981', 'major': 'Information Science', 'courses': ['Beginning Swim', 'Marketing Principles', 'Obj-Oriented Prog & Data Struc', 'Communication and Technology', 'Intro Computing Using Python', 'Intro Design & Prog for Web', 'Introduction to Data Science', 'Data-Driven Web Applications', 'Elementary Hindi II', 'Probability Models & Inference', 'Systems Programming', 'Human Evolution', 'Info Ethics Law & Policy', 'Financial Accounting Principle', 'Networks', 'Programming Practicum', 'Human-Computer Interaction Des', 'The Language of Chemistry', 'Elementary Hindi I', 'Introductory Statistics', 'Designing Tech Social Impact', 'Linear Algebra', 'Beginning Tae Kwon Do', 'Poetry of Classical India', 'Inventing an Info Society'], 'terms': [('PE1100', (2014, 2)), ('CS2110', (2015, 0)), ('INFO2040', (2014, 2)), ('INFO3450', (2016, 2)), ('HINDI1101', (2015, 2)), ('INFO2950', (2016, 0)), ('CS3300', (2016, 0)), ('CS2111', (2015, 0)), ('ASIAN3366', (2016, 0)), ('INFO1200', (2017, 0)), ('ANTHR1300', (2017, 0)), ('BTRY3080', (2015, 2)), ('STSCI2100', (2015, 0)), ('INFO2921', (2015, 2)), ('INFO4240', (2016, 2)), ('HADM2230', (2016, 2)), ('CS1110', (2014, 2)), ('HADM2410', (2016, 2)), ('PE1375', (2015, 0)), ('PE1375', (2017, 2)), ('CS3410', (2015, 2)), ('MATH2210', (2015, 0)), ('INFO2450', (2016, 2)), ('HINDI1102', (2016, 0)), ('INFO1300', (2014, 2)), ('CHEM1150', (2014, 2))], 'term_numbers': {'PE1100': 1, 'INFO2040': 1, 'CS1110': 1, 'INFO1300': 1, 'CHEM1150': 1, 'CS2110': 2, 'CS2111': 2, 'STSCI2100': 2, 'PE1375': 7, 'MATH2210': 2, 'HINDI1101': 3, 'BTRY3080': 3, 'INFO2921': 3, 'CS3410': 3, 'INFO2950': 4, 'CS3300': 4, 'ASIAN3366': 4, 'HINDI1102': 4, 'INFO3450': 5, 'INFO4240': 5, 'HADM2230': 5, 'HADM2410': 5, 'INFO2450': 5, 'INFO1200': 6, 'ANTHR1300': 6}}\n"
     ]
    }
   ],
   "source": [
    "print(list(data.courses[\"CS1110\"].students)[0])"
   ]
  },
  {
   "cell_type": "markdown",
   "metadata": {},
   "source": [
    "# Graph model test"
   ]
  },
  {
   "cell_type": "code",
   "execution_count": 30,
   "metadata": {
    "collapsed": true
   },
   "outputs": [],
   "source": [
    "g = graph.Graph()"
   ]
  },
  {
   "cell_type": "code",
   "execution_count": 31,
   "metadata": {},
   "outputs": [
    {
     "name": "stdout",
     "output_type": "stream",
     "text": [
      "250\n",
      "500\n",
      "750\n",
      "1000\n",
      "1250\n",
      "1500\n",
      "1750\n",
      "2000\n",
      "2250\n",
      "11.621638059616089\n"
     ]
    }
   ],
   "source": [
    "start = time.time()\n",
    "c = 1\n",
    "for cname1 in data.courses:\n",
    "    if c % 250 == 0:\n",
    "        print(c)\n",
    "    for cname2 in data.courses:\n",
    "        if cname2 == cname1:\n",
    "            continue\n",
    "        course = data.courses[cname1]\n",
    "        count = 0\n",
    "        for s in course.students:\n",
    "            if cname2 in s.term_numbers and s.term_numbers[cname2] == s.term_numbers[cname1] + 1:\n",
    "                count += 1\n",
    "        if count > 0:\n",
    "            g.addEdge(cname1, cname2, count)\n",
    "    c += 1\n",
    "end = time.time()\n",
    "print(end - start)"
   ]
  },
  {
   "cell_type": "code",
   "execution_count": 34,
   "metadata": {},
   "outputs": [
    {
     "name": "stdout",
     "output_type": "stream",
     "text": [
      "(INFO2040,INFO2300,230)\n",
      "(INFO2040,CS2110,76)\n",
      "(INFO2040,INFO2950,130)\n",
      "(INFO2040,INFO1200,129)\n",
      "(CS1110,INFO2040,131)\n",
      "(CS1110,CS2800,91)\n",
      "(CS1110,CS2111,114)\n",
      "(CS1110,CS2110,318)\n",
      "(CS1110,INFO1300,127)\n",
      "(INFO2300,INFO2040,88)\n",
      "(INFO2300,INFO2450,125)\n",
      "(INFO2300,INFO3450,116)\n",
      "(INFO2300,INFO4240,120)\n",
      "(INFO2450,INFO2300,175)\n",
      "(INFO2450,INFO2950,105)\n",
      "(INFO2450,INFO1200,108)\n",
      "(CS2110,INFO2040,116)\n",
      "(CS2110,CS2800,98)\n",
      "(CS2110,INFO2450,96)\n",
      "(CS2110,INFO1300,101)\n",
      "(INFO2950,INFO2450,81)\n",
      "(INFO2950,INFO3450,76)\n",
      "(INFO2950,INFO4240,76)\n",
      "(INFO1300,INFO2300,344)\n",
      "(INFO1300,CS2110,78)\n",
      "(INFO1300,INFO2950,123)\n",
      "(INFO1300,INFO1200,124)\n",
      "(INFO1200,INFO2040,80)\n",
      "(INFO1200,INFO2450,115)\n",
      "(INFO1200,INFO3450,77)\n",
      "(INFO1200,INFO4240,154)\n",
      "(INFO1200,INFO1300,81)\n"
     ]
    }
   ],
   "source": [
    "for e in g.filterEdges(lambda e: e.weight > 75):\n",
    "    print(str(e))"
   ]
  },
  {
   "cell_type": "code",
   "execution_count": null,
   "metadata": {
    "collapsed": true
   },
   "outputs": [],
   "source": []
  },
  {
   "cell_type": "code",
   "execution_count": 37,
   "metadata": {},
   "outputs": [
    {
     "name": "stdout",
     "output_type": "stream",
     "text": [
      "done! exported as test3.dot\n"
     ]
    }
   ],
   "source": [
    "g.export_graph(\"test3\",75)"
   ]
  },
  {
   "cell_type": "code",
   "execution_count": 36,
   "metadata": {},
   "outputs": [
    {
     "ename": "AttributeError",
     "evalue": "'tuple' object has no attribute 'weight'",
     "output_type": "error",
     "traceback": [
      "\u001b[0;31m---------------------------------------------------------------------------\u001b[0m",
      "\u001b[0;31mAttributeError\u001b[0m                            Traceback (most recent call last)",
      "\u001b[0;32m<ipython-input-36-331e33991642>\u001b[0m in \u001b[0;36m<module>\u001b[0;34m()\u001b[0m\n\u001b[0;32m----> 1\u001b[0;31m \u001b[0mx\u001b[0m \u001b[0;34m=\u001b[0m \u001b[0;34m[\u001b[0m\u001b[0mmin\u001b[0m\u001b[0;34m(\u001b[0m\u001b[0me\u001b[0m\u001b[0;34m.\u001b[0m\u001b[0mweight\u001b[0m\u001b[0;34m,\u001b[0m \u001b[0;36m100\u001b[0m\u001b[0;34m)\u001b[0m \u001b[0;32mfor\u001b[0m \u001b[0me\u001b[0m \u001b[0;32min\u001b[0m \u001b[0mg\u001b[0m\u001b[0;34m.\u001b[0m\u001b[0medges\u001b[0m\u001b[0;34m]\u001b[0m\u001b[0;34m\u001b[0m\u001b[0m\n\u001b[0m\u001b[1;32m      2\u001b[0m \u001b[0mnum_bins\u001b[0m \u001b[0;34m=\u001b[0m \u001b[0;36m25\u001b[0m\u001b[0;34m\u001b[0m\u001b[0m\n\u001b[1;32m      3\u001b[0m \u001b[0mn\u001b[0m\u001b[0;34m,\u001b[0m \u001b[0mbins\u001b[0m\u001b[0;34m,\u001b[0m \u001b[0mpatches\u001b[0m \u001b[0;34m=\u001b[0m \u001b[0mplt\u001b[0m\u001b[0;34m.\u001b[0m\u001b[0mhist\u001b[0m\u001b[0;34m(\u001b[0m\u001b[0mx\u001b[0m\u001b[0;34m,\u001b[0m \u001b[0mnum_bins\u001b[0m\u001b[0;34m,\u001b[0m \u001b[0mfacecolor\u001b[0m\u001b[0;34m=\u001b[0m\u001b[0;34m'blue'\u001b[0m\u001b[0;34m,\u001b[0m \u001b[0malpha\u001b[0m\u001b[0;34m=\u001b[0m\u001b[0;36m0.5\u001b[0m\u001b[0;34m)\u001b[0m\u001b[0;34m\u001b[0m\u001b[0m\n\u001b[1;32m      4\u001b[0m \u001b[0mplt\u001b[0m\u001b[0;34m.\u001b[0m\u001b[0mxlabel\u001b[0m\u001b[0;34m(\u001b[0m\u001b[0;34m\"edge weight\"\u001b[0m\u001b[0;34m)\u001b[0m\u001b[0;34m\u001b[0m\u001b[0m\n\u001b[1;32m      5\u001b[0m \u001b[0mplt\u001b[0m\u001b[0;34m.\u001b[0m\u001b[0mylabel\u001b[0m\u001b[0;34m(\u001b[0m\u001b[0;34m\"frequency\"\u001b[0m\u001b[0;34m)\u001b[0m\u001b[0;34m\u001b[0m\u001b[0m\n",
      "\u001b[0;32m<ipython-input-36-331e33991642>\u001b[0m in \u001b[0;36m<listcomp>\u001b[0;34m(.0)\u001b[0m\n\u001b[0;32m----> 1\u001b[0;31m \u001b[0mx\u001b[0m \u001b[0;34m=\u001b[0m \u001b[0;34m[\u001b[0m\u001b[0mmin\u001b[0m\u001b[0;34m(\u001b[0m\u001b[0me\u001b[0m\u001b[0;34m.\u001b[0m\u001b[0mweight\u001b[0m\u001b[0;34m,\u001b[0m \u001b[0;36m100\u001b[0m\u001b[0;34m)\u001b[0m \u001b[0;32mfor\u001b[0m \u001b[0me\u001b[0m \u001b[0;32min\u001b[0m \u001b[0mg\u001b[0m\u001b[0;34m.\u001b[0m\u001b[0medges\u001b[0m\u001b[0;34m]\u001b[0m\u001b[0;34m\u001b[0m\u001b[0m\n\u001b[0m\u001b[1;32m      2\u001b[0m \u001b[0mnum_bins\u001b[0m \u001b[0;34m=\u001b[0m \u001b[0;36m25\u001b[0m\u001b[0;34m\u001b[0m\u001b[0m\n\u001b[1;32m      3\u001b[0m \u001b[0mn\u001b[0m\u001b[0;34m,\u001b[0m \u001b[0mbins\u001b[0m\u001b[0;34m,\u001b[0m \u001b[0mpatches\u001b[0m \u001b[0;34m=\u001b[0m \u001b[0mplt\u001b[0m\u001b[0;34m.\u001b[0m\u001b[0mhist\u001b[0m\u001b[0;34m(\u001b[0m\u001b[0mx\u001b[0m\u001b[0;34m,\u001b[0m \u001b[0mnum_bins\u001b[0m\u001b[0;34m,\u001b[0m \u001b[0mfacecolor\u001b[0m\u001b[0;34m=\u001b[0m\u001b[0;34m'blue'\u001b[0m\u001b[0;34m,\u001b[0m \u001b[0malpha\u001b[0m\u001b[0;34m=\u001b[0m\u001b[0;36m0.5\u001b[0m\u001b[0;34m)\u001b[0m\u001b[0;34m\u001b[0m\u001b[0m\n\u001b[1;32m      4\u001b[0m \u001b[0mplt\u001b[0m\u001b[0;34m.\u001b[0m\u001b[0mxlabel\u001b[0m\u001b[0;34m(\u001b[0m\u001b[0;34m\"edge weight\"\u001b[0m\u001b[0;34m)\u001b[0m\u001b[0;34m\u001b[0m\u001b[0m\n\u001b[1;32m      5\u001b[0m \u001b[0mplt\u001b[0m\u001b[0;34m.\u001b[0m\u001b[0mylabel\u001b[0m\u001b[0;34m(\u001b[0m\u001b[0;34m\"frequency\"\u001b[0m\u001b[0;34m)\u001b[0m\u001b[0;34m\u001b[0m\u001b[0m\n",
      "\u001b[0;31mAttributeError\u001b[0m: 'tuple' object has no attribute 'weight'"
     ]
    }
   ],
   "source": [
    "x = [min(e.weight, 100) for e in g.edges]\n",
    "num_bins = 25\n",
    "n, bins, patches = plt.hist(x, num_bins, facecolor='blue', alpha=0.5)\n",
    "plt.xlabel(\"edge weight\")\n",
    "plt.ylabel(\"frequency\")\n",
    "plt.title(\"distribution of edge weights (capped at 100)\")\n",
    "plt.show()"
   ]
  },
  {
   "cell_type": "code",
   "execution_count": 121,
   "metadata": {},
   "outputs": [
    {
     "data": {
      "text/plain": [
       "159731"
      ]
     },
     "execution_count": 121,
     "metadata": {},
     "output_type": "execute_result"
    }
   ],
   "source": [
    "len(g.edges)"
   ]
  },
  {
   "cell_type": "code",
   "execution_count": 134,
   "metadata": {},
   "outputs": [
    {
     "name": "stdout",
     "output_type": "stream",
     "text": [
      "159731\n"
     ]
    }
   ],
   "source": [
    "edges_dict = {}\n",
    "for e in g.edges:\n",
    "    edges_dict[(e.src, e.dest)] = e.weight\n",
    "print(len(edges_dict))"
   ]
  },
  {
   "cell_type": "code",
   "execution_count": 135,
   "metadata": {},
   "outputs": [
    {
     "name": "stdout",
     "output_type": "stream",
     "text": [
      "156744\n"
     ]
    }
   ],
   "source": [
    "for k in list(edges_dict.keys()):\n",
    "    k1, k2 = k\n",
    "    if k in edges_dict and (k2,k1) in edges_dict:\n",
    "        w1, w2 = edges_dict[k], edges_dict[(k2, k1)]\n",
    "        if w1/w2 > 4:\n",
    "            del edges_dict[(k2, k1)]\n",
    "        elif w2/w1 > 4:\n",
    "            del edges_dict[k]\n",
    "print(len(edges_dict))"
   ]
  },
  {
   "cell_type": "code",
   "execution_count": 139,
   "metadata": {},
   "outputs": [
    {
     "name": "stdout",
     "output_type": "stream",
     "text": [
      "14225\n"
     ]
    }
   ],
   "source": [
    "for k in list(edges_dict.keys()):\n",
    "    if edges_dict[k] < 5:\n",
    "        del edges_dict[k]\n",
    "print(len(edges_dict))    "
   ]
  },
  {
   "cell_type": "code",
   "execution_count": 141,
   "metadata": {},
   "outputs": [
    {
     "name": "stdout",
     "output_type": "stream",
     "text": [
      "922\n"
     ]
    }
   ],
   "source": [
    "n = set()\n",
    "for k in list(edges_dict.keys()):\n",
    "    n.add(k[0])\n",
    "    n.add(k[1])\n",
    "print(len(n))"
   ]
  },
  {
   "cell_type": "code",
   "execution_count": 142,
   "metadata": {},
   "outputs": [
    {
     "data": {
      "text/plain": [
       "3625"
      ]
     },
     "execution_count": 142,
     "metadata": {},
     "output_type": "execute_result"
    }
   ],
   "source": [
    "len(g.nodes)"
   ]
  },
  {
   "cell_type": "code",
   "execution_count": 146,
   "metadata": {
    "collapsed": true
   },
   "outputs": [],
   "source": [
    "def export_edges(edges, name:str):\n",
    "    nodes = set([e.src for e in edges]).intersection(set([e.dest for e in edges]))\n",
    "    fname = name+\".dot\"\n",
    "    with open(fname, \"w\") as f:\n",
    "        f.write(\"digraph course_graph {\\n\")\n",
    "        for e in edges:\n",
    "            f.write('{} -> {} [ label = \"{}\" ];\\n'.format(e.src, e.dest, e.weight))\n",
    "        for n in nodes:\n",
    "            f.write('{} [ label = \"{}\" ];\\n'.format(n,n))\n",
    "        f.write(\"}\\n\")\n",
    "    print(\"done! exported as {}.dot\".format(name))"
   ]
  },
  {
   "cell_type": "code",
   "execution_count": 149,
   "metadata": {},
   "outputs": [
    {
     "name": "stdout",
     "output_type": "stream",
     "text": [
      "done! exported as test2.dot\n"
     ]
    }
   ],
   "source": [
    "new_edges = [e for e in g.edges if (e.src, e.dest) in edges_dict and e.weight > 250]\n",
    "export_edges(new_edges, \"test2\")"
   ]
  },
  {
   "cell_type": "code",
   "execution_count": null,
   "metadata": {
    "collapsed": true
   },
   "outputs": [],
   "source": []
  }
 ],
 "metadata": {
  "kernelspec": {
   "display_name": "Python 3",
   "language": "python",
   "name": "python3"
  },
  "language_info": {
   "codemirror_mode": {
    "name": "ipython",
    "version": 3
   },
   "file_extension": ".py",
   "mimetype": "text/x-python",
   "name": "python",
   "nbconvert_exporter": "python",
   "pygments_lexer": "ipython3",
   "version": "3.7.1"
  }
 },
 "nbformat": 4,
 "nbformat_minor": 2
}
