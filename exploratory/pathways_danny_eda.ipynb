{
 "cells": [
  {
   "cell_type": "code",
   "execution_count": null,
   "metadata": {
    "collapsed": true
   },
   "outputs": [],
   "source": [
    "import importlib\n",
    "import extract\n",
    "import graph\n",
    "importlib.reload(extract)\n",
    "importlib.reload(graph)\n",
    "import time\n",
    "import matplotlib.pyplot as plt"
   ]
  },
  {
   "cell_type": "code",
   "execution_count": null,
   "metadata": {},
   "outputs": [],
   "source": [
    "start = time.time()\n",
    "data = extract.Data(\"./data/CIS_enrollment.csv\", [\"Computer Science\"])\n",
    "end = time.time()\n",
    "print(end - start)"
   ]
  },
  {
   "cell_type": "markdown",
   "metadata": {},
   "source": [
    "# Data model test"
   ]
  },
  {
   "cell_type": "code",
   "execution_count": null,
   "metadata": {},
   "outputs": [],
   "source": [
    "len(data.courses),len(data.students)"
   ]
  },
  {
   "cell_type": "code",
   "execution_count": null,
   "metadata": {},
   "outputs": [],
   "source": [
    "print(list(data.students.values())[0])"
   ]
  },
  {
   "cell_type": "code",
   "execution_count": null,
   "metadata": {},
   "outputs": [],
   "source": [
    "print(list(data.courses[\"CS1110\"].students)[0])"
   ]
  },
  {
   "cell_type": "markdown",
   "metadata": {},
   "source": [
    "# Graph model test"
   ]
  },
  {
   "cell_type": "code",
   "execution_count": null,
   "metadata": {
    "collapsed": true
   },
   "outputs": [],
   "source": [
    "cog = graph.Graph()\n",
    "postg = graph.Graph()"
   ]
  },
  {
   "cell_type": "code",
   "execution_count": null,
   "metadata": {
    "collapsed": true
   },
   "outputs": [],
   "source": [
    "def build_graph(g, n = 0):\n",
    "    start = time.time()\n",
    "    c = 1\n",
    "    for cname1 in data.courses:\n",
    "        if c % 250 == 0:\n",
    "            print(c)\n",
    "        for cname2 in data.courses:\n",
    "            if cname2 == cname1:\n",
    "                continue\n",
    "            course = data.courses[cname1]\n",
    "            count = 0\n",
    "            for s in course.students:\n",
    "                if cname2 in s.term_numbers and s.term_numbers[cname2] == (s.term_numbers[cname1] + n):\n",
    "                    count += 1\n",
    "            if count > 0:\n",
    "                g.addEdge(cname1, cname2, count)\n",
    "        c += 1\n",
    "    end = time.time()\n",
    "    print(end - start)"
   ]
  },
  {
   "cell_type": "code",
   "execution_count": null,
   "metadata": {},
   "outputs": [],
   "source": [
    "build_graph(cog)\n",
    "build_graph(postg, 1)"
   ]
  },
  {
   "cell_type": "code",
   "execution_count": null,
   "metadata": {},
   "outputs": [],
   "source": [
    "print(len(postg.edges))\n",
    "count = 0\n",
    "for k in postg.edges:\n",
    "    k1, k2 = k\n",
    "    if k in postg.edges and (k2,k1) in postg.edges:\n",
    "        w1, w2 = postg.edges[k].weight, postg.edges[(k2, k1)].weight\n",
    "        if w1/w2 > 2.0:\n",
    "            count += 1\n",
    "print(count)"
   ]
  },
  {
   "cell_type": "code",
   "execution_count": null,
   "metadata": {},
   "outputs": [],
   "source": [
    "print(postg.edges[(\"CS2110\",\"CS3110\")])\n",
    "print(postg.edges[(\"CS2110\",\"CS3410\")])\n",
    "print(cog.edges[(\"CS3110\",\"CS3410\")])\n",
    "print(cog.edges[(\"CS3110\",\"CS2800\")])\n",
    "print(postg.edges[(\"CS2800\",\"CS3110\")])"
   ]
  },
  {
   "cell_type": "code",
   "execution_count": null,
   "metadata": {
    "collapsed": true
   },
   "outputs": [],
   "source": [
    "# g.export_json(\"data/cs_co_30\",30)"
   ]
  },
  {
   "cell_type": "code",
   "execution_count": null,
   "metadata": {
    "collapsed": true
   },
   "outputs": [],
   "source": [
    "# g.export_graph(\"test4\",300)"
   ]
  },
  {
   "cell_type": "code",
   "execution_count": null,
   "metadata": {},
   "outputs": [],
   "source": [
    "x = [min(e.weight, 100) for e in g.edges]\n",
    "num_bins = 25\n",
    "n, bins, patches = plt.hist(x, num_bins, facecolor='blue', alpha=0.5)\n",
    "plt.xlabel(\"edge weight\")\n",
    "plt.ylabel(\"frequency\")\n",
    "plt.title(\"distribution of edge weights (capped at 100)\")\n",
    "plt.show()"
   ]
  },
  {
   "cell_type": "code",
   "execution_count": null,
   "metadata": {
    "collapsed": true
   },
   "outputs": [],
   "source": []
  },
  {
   "cell_type": "code",
   "execution_count": null,
   "metadata": {},
   "outputs": [],
   "source": [
    "edges_dict = {}\n",
    "for e in g.edges:\n",
    "    edges_dict[(e.src, e.dest)] = e.weight\n",
    "print(len(edges_dict))"
   ]
  },
  {
   "cell_type": "code",
   "execution_count": null,
   "metadata": {},
   "outputs": [],
   "source": [
    "for k in list(edges_dict.keys()):\n",
    "    k1, k2 = k\n",
    "    if k in edges_dict and (k2,k1) in edges_dict:\n",
    "        w1, w2 = edges_dict[k], edges_dict[(k2, k1)]\n",
    "        if w1/w2 > 4:\n",
    "            del edges_dict[(k2, k1)]\n",
    "        elif w2/w1 > 4:\n",
    "            del edges_dict[k]\n",
    "print(len(edges_dict))"
   ]
  },
  {
   "cell_type": "code",
   "execution_count": null,
   "metadata": {},
   "outputs": [],
   "source": [
    "for k in list(edges_dict.keys()):\n",
    "    if edges_dict[k] < 5:\n",
    "        del edges_dict[k]\n",
    "print(len(edges_dict))    "
   ]
  },
  {
   "cell_type": "code",
   "execution_count": null,
   "metadata": {},
   "outputs": [],
   "source": [
    "n = set()\n",
    "for k in list(edges_dict.keys()):\n",
    "    n.add(k[0])\n",
    "    n.add(k[1])\n",
    "print(len(n))"
   ]
  },
  {
   "cell_type": "code",
   "execution_count": null,
   "metadata": {},
   "outputs": [],
   "source": [
    "len(g.nodes)"
   ]
  },
  {
   "cell_type": "code",
   "execution_count": null,
   "metadata": {},
   "outputs": [],
   "source": [
    "len(set([x.src for x in g.filterEdges(lambda e: e.weight > 30)]+[x.dest for x in g.filterEdges(lambda e: e.weight > 30)]))"
   ]
  },
  {
   "cell_type": "code",
   "execution_count": null,
   "metadata": {},
   "outputs": [],
   "source": [
    "len(cog.filterEdges(lambda e: e.weight > 5))\n",
    "len(postg.filterEdges(lambda e: e.weight > 1))"
   ]
  },
  {
   "cell_type": "code",
   "execution_count": null,
   "metadata": {
    "collapsed": true
   },
   "outputs": [],
   "source": []
  }
 ],
 "metadata": {
  "kernelspec": {
   "display_name": "Python 3",
   "language": "python",
   "name": "python3"
  },
  "language_info": {
   "codemirror_mode": {
    "name": "ipython",
    "version": 3
   },
   "file_extension": ".py",
   "mimetype": "text/x-python",
   "name": "python",
   "nbconvert_exporter": "python",
   "pygments_lexer": "ipython3",
   "version": "3.6.0"
  }
 },
 "nbformat": 4,
 "nbformat_minor": 2
}
