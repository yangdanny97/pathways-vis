{
 "cells": [
  {
   "cell_type": "code",
   "execution_count": 1,
   "metadata": {
    "collapsed": true
   },
   "outputs": [],
   "source": [
    "import importlib\n",
    "import extract\n",
    "import graph\n",
    "importlib.reload(extract)\n",
    "importlib.reload(graph)\n",
    "import time\n",
    "import matplotlib.pyplot as plt"
   ]
  },
  {
   "cell_type": "code",
   "execution_count": 20,
   "metadata": {},
   "outputs": [
    {
     "name": "stdout",
     "output_type": "stream",
     "text": [
      "1.0154800415039062\n"
     ]
    }
   ],
   "source": [
    "start = time.time()\n",
    "data = extract.Data(\"./data/CIS_enrollment.csv\", [\"Computer Science\"])\n",
    "end = time.time()\n",
    "print(end - start)"
   ]
  },
  {
   "cell_type": "markdown",
   "metadata": {},
   "source": [
    "# Data model test"
   ]
  },
  {
   "cell_type": "code",
   "execution_count": 21,
   "metadata": {},
   "outputs": [
    {
     "data": {
      "text/plain": [
       "(2946, 3194)"
      ]
     },
     "execution_count": 21,
     "metadata": {},
     "output_type": "execute_result"
    }
   ],
   "source": [
    "len(data.courses),len(data.students)"
   ]
  },
  {
   "cell_type": "code",
   "execution_count": 22,
   "metadata": {},
   "outputs": [
    {
     "name": "stdout",
     "output_type": "stream",
     "text": [
      "{'id': '321398', 'major': 'Computer Science', 'courses': ['Physics I: Mechanics & Heat', 'Advanced Computer Architecture', 'Complex Digital ASIC Design', 'Intro to Microelectronics', 'MicroElectro Mechanical System', 'Obj-Oriented Prog & Data Struc', 'Computer Graphics I', 'Differential Equations Engrs', 'Intro to Scientific Comp', 'Fiber & Integrated Optics', 'Lasers and Optoelectronics', 'Advanced Volleyball', 'Engineering Seminar', 'Intro Microeconomics', 'Multivariable Calculus Engrs', 'Digital VLSI Design', 'Embedded Systems', 'Physics II: Electromagnetism', 'Engineering Communications', 'Datacenter Networks & Services', 'Advanced Digital VLSI', 'Intro Computing Using Java', 'Linear Algebra for Engineers', 'Intro to Entrep & Engr Enterpr', 'Archery', 'Beginning Swim', 'Intro to Circ Elec & Comp Engr', 'Phys III-Osc Waves & Quan Phys', 'Short Course in MATLAB', 'Marketing', 'Cooperative Workshop MATH 1920', 'Advanced Computer Architecture', 'Signals and Information', 'Finance', 'Intro to Business Management', 'Computer Architecture', 'Digital Logic & Computer Org.', 'Networks', 'Advanced Systems', 'Basketball'], 'terms': [('ECE3150', (2010, 0)), ('ECE4320', (2010, 2)), ('CS3220', (2010, 0)), ('CS4620', (2010, 2)), ('ECE4740', (2012, 0)), ('ENGRG1050', (2008, 2)), ('MATH2930', (2009, 0)), ('PE1100', (2008, 2)), ('ECE2100', (2009, 2)), ('PE1571', (2008, 2)), ('PHYS2214', (2009, 2)), ('ECE4750', (2010, 2)), ('ECE3140', (2010, 0)), ('PHYS2213', (2009, 0)), ('MATH1920', (2008, 2)), ('ENGRI1270', (2009, 0)), ('CS6452', (2014, 0)), ('PE1560', (2011, 2)), ('ENGRD2110', (2009, 2)), ('ECE2200', (2010, 0)), ('ENGRC3500', (2011, 2)), ('CS6410', (2013, 2)), ('ECE5740', (2012, 2)), ('AEM1200', (2012, 0)), ('CS5420', (2011, 2)), ('CS1110', (2008, 2)), ('ECON1110', (2010, 0)), ('ECE5750', (2012, 0)), ('ECE4300', (2011, 2)), ('PHYS1112', (2008, 2)), ('PE1520', (2011, 2)), ('SOC2090', (2009, 0)), ('AEM3240', (2011, 2)), ('MATH2940', (2009, 2)), ('ENGRD2300', (2009, 2)), ('AEM2400', (2010, 2)), ('ECE5745', (2013, 0)), ('CS1132', (2009, 2)), ('ENGRG1092', (2008, 2)), ('ECE4370', (2012, 0))], 'term_numbers': {'ENGRG1050': 1, 'PE1100': 1, 'PE1571': 1, 'MATH1920': 1, 'CS1110': 1, 'PHYS1112': 1, 'ENGRG1092': 1, 'MATH2930': 2, 'PHYS2213': 2, 'ENGRI1270': 2, 'SOC2090': 2, 'ECE2100': 3, 'PHYS2214': 3, 'ENGRD2110': 3, 'MATH2940': 3, 'ENGRD2300': 3, 'CS1132': 3, 'ECE3150': 4, 'CS3220': 4, 'ECE3140': 4, 'ECE2200': 4, 'ECON1110': 4, 'ECE4320': 5, 'CS4620': 5, 'ECE4750': 5, 'AEM2400': 5, 'PE1560': 6, 'ENGRC3500': 6, 'CS5420': 6, 'ECE4300': 6, 'PE1520': 6, 'AEM3240': 6, 'ECE4740': 7, 'AEM1200': 7, 'ECE5750': 7, 'ECE4370': 7, 'ECE5740': 8, 'ECE5745': 9, 'CS6410': 10, 'CS6452': 11}}\n"
     ]
    }
   ],
   "source": [
    "print(list(data.students.values())[0])"
   ]
  },
  {
   "cell_type": "code",
   "execution_count": 23,
   "metadata": {},
   "outputs": [
    {
     "name": "stdout",
     "output_type": "stream",
     "text": [
      "{'id': '2527378', 'major': 'Computer Science', 'courses': ['Biological Statistics II', 'Living Routines', 'Machine Learning Data Science', 'Introduction To Linguistics', 'Programming Practicum', 'Intro to Natural Lang Process', 'Adv Game Architecture', 'Introduction to Psychology', 'Italian II', 'Machine Learning', 'Great Discoveries/Archaeology', 'Industrial Data & Sys. Analy.', 'Calculus II', 'C++ Programming', 'Operating Systems', 'Statistical Data Mining I', 'Boxing', 'Green World/Blue Planet', 'Networks', 'Intro Computing Using Java', 'Linear Algebra for Engineers', 'Calculus I', 'Biological Statistics I', 'Introduction to Wines', 'Data Struct & Functional Progr', 'Probability Models & Inference', 'UNIX Tools and Scripting', 'Our Solar System', 'Systems Programming', 'Communication Adv Game Dev', 'Prac in A I', 'Intro Analysis of Algorithms', 'Discrete Structures', 'Obj-Oriented Prog & Data Struc', 'Introduction to China'], 'terms': [('CS4152', (2018, 0)), ('HADM4300', (2018, 0)), ('CS2043', (2016, 0)), ('BTRY3020', (2017, 0)), ('BTRY3080', (2017, 2)), ('CS2850', (2015, 2)), ('PSYCH1101', (2014, 2)), ('CS4701', (2017, 2)), ('ARKEO1702', (2018, 0)), ('ORIE3120', (2017, 0)), ('MATH1120', (2015, 0)), ('CS4786', (2017, 2)), ('MATH2940', (2015, 2)), ('ASTRO1102', (2015, 0)), ('CS4780', (2017, 0)), ('ASIAN2212', (2016, 0)), ('ITAL1202', (2017, 0)), ('ORIE4740', (2018, 0)), ('CS2024', (2015, 2)), ('CS4820', (2016, 0)), ('MATH1110', (2014, 2)), ('CS4410', (2017, 0)), ('LING1101', (2016, 2)), ('BTRY3010', (2016, 2)), ('CS3410', (2016, 2)), ('PE1405', (2018, 0)), ('CS3110', (2015, 2)), ('CS2800', (2015, 0)), ('PE1345', (2014, 2)), ('CS2110', (2015, 0)), ('PLBIO2400', (2016, 0)), ('CS1110', (2014, 2)), ('CS2111', (2015, 0)), ('ENGRC4152', (2018, 0)), ('CS4740', (2016, 2))], 'term_numbers': {'PSYCH1101': 1, 'MATH1110': 1, 'PE1345': 1, 'CS1110': 1, 'MATH1120': 2, 'ASTRO1102': 2, 'CS2800': 2, 'CS2110': 2, 'CS2111': 2, 'CS2850': 3, 'MATH2940': 3, 'CS2024': 3, 'CS3110': 3, 'CS2043': 4, 'ASIAN2212': 4, 'CS4820': 4, 'PLBIO2400': 4, 'LING1101': 5, 'BTRY3010': 5, 'CS3410': 5, 'CS4740': 5, 'BTRY3020': 6, 'ORIE3120': 6, 'CS4780': 6, 'ITAL1202': 6, 'CS4410': 6, 'BTRY3080': 7, 'CS4701': 7, 'CS4786': 7, 'CS4152': 8, 'HADM4300': 8, 'ARKEO1702': 8, 'ORIE4740': 8, 'PE1405': 8, 'ENGRC4152': 8}}\n"
     ]
    }
   ],
   "source": [
    "print(list(data.courses[\"CS1110\"].students)[0])"
   ]
  },
  {
   "cell_type": "markdown",
   "metadata": {},
   "source": [
    "# Graph model test"
   ]
  },
  {
   "cell_type": "code",
   "execution_count": 39,
   "metadata": {
    "collapsed": true
   },
   "outputs": [],
   "source": [
    "cog = graph.Graph()\n",
    "postg = graph.Graph()"
   ]
  },
  {
   "cell_type": "code",
   "execution_count": 40,
   "metadata": {},
   "outputs": [],
   "source": [
    "def build_graph(g, n = 0):\n",
    "    start = time.time()\n",
    "    c = 1\n",
    "    for cname1 in data.courses:\n",
    "        if c % 250 == 0:\n",
    "            print(c)\n",
    "        for cname2 in data.courses:\n",
    "            if cname2 == cname1:\n",
    "                continue\n",
    "            course = data.courses[cname1]\n",
    "            count = 0\n",
    "            for s in course.students:\n",
    "                if cname2 in s.term_numbers and s.term_numbers[cname2] == (s.term_numbers[cname1] + n):\n",
    "                    count += 1\n",
    "            if count > 0:\n",
    "                g.addEdge(cname1, cname2, count)\n",
    "        c += 1\n",
    "    end = time.time()\n",
    "    print(end - start)"
   ]
  },
  {
   "cell_type": "code",
   "execution_count": 41,
   "metadata": {},
   "outputs": [
    {
     "name": "stdout",
     "output_type": "stream",
     "text": [
      "250\n",
      "500\n",
      "750\n",
      "1000\n",
      "1250\n",
      "1500\n",
      "1750\n",
      "2000\n",
      "2250\n",
      "2500\n",
      "2750\n",
      "54.47909903526306\n",
      "250\n",
      "500\n",
      "750\n",
      "1000\n",
      "1250\n",
      "1500\n",
      "1750\n",
      "2000\n",
      "2250\n",
      "2500\n",
      "2750\n",
      "38.64127016067505\n"
     ]
    }
   ],
   "source": [
    "build_graph(cog)\n",
    "build_graph(postg, 1)"
   ]
  },
  {
   "cell_type": "code",
   "execution_count": 47,
   "metadata": {},
   "outputs": [
    {
     "name": "stdout",
     "output_type": "stream",
     "text": [
      "111195\n",
      "6010\n"
     ]
    }
   ],
   "source": [
    "print(len(postg.edges))\n",
    "count = 0\n",
    "for k in postg.edges:\n",
    "    k1, k2 = k\n",
    "    if k in postg.edges and (k2,k1) in postg.edges:\n",
    "        w1, w2 = postg.edges[k].weight, postg.edges[(k2, k1)].weight\n",
    "        if w1/w2 > 2.0:\n",
    "            count += 1\n",
    "print(count)"
   ]
  },
  {
   "cell_type": "code",
   "execution_count": 49,
   "metadata": {},
   "outputs": [
    {
     "name": "stdout",
     "output_type": "stream",
     "text": [
      "(CS2110,CS3110,491)\n",
      "(CS2110,CS3410,354)\n",
      "(CS3110,CS3410,43)\n",
      "(CS3110,CS2800,388)\n",
      "(CS2800,CS3110,958)\n"
     ]
    }
   ],
   "source": [
    "print(postg.edges[(\"CS2110\",\"CS3110\")])\n",
    "print(postg.edges[(\"CS2110\",\"CS3410\")])\n",
    "print(cog.edges[(\"CS3110\",\"CS3410\")])\n",
    "print(cog.edges[(\"CS3110\",\"CS2800\")])\n",
    "print(postg.edges[(\"CS2800\",\"CS3110\")])"
   ]
  },
  {
   "cell_type": "code",
   "execution_count": 27,
   "metadata": {},
   "outputs": [],
   "source": [
    "# g.export_json(\"data/cs_co_30\",30)"
   ]
  },
  {
   "cell_type": "code",
   "execution_count": 28,
   "metadata": {},
   "outputs": [],
   "source": [
    "# g.export_graph(\"test4\",300)"
   ]
  },
  {
   "cell_type": "code",
   "execution_count": 36,
   "metadata": {},
   "outputs": [
    {
     "ename": "AttributeError",
     "evalue": "'tuple' object has no attribute 'weight'",
     "output_type": "error",
     "traceback": [
      "\u001b[0;31m---------------------------------------------------------------------------\u001b[0m",
      "\u001b[0;31mAttributeError\u001b[0m                            Traceback (most recent call last)",
      "\u001b[0;32m<ipython-input-36-331e33991642>\u001b[0m in \u001b[0;36m<module>\u001b[0;34m()\u001b[0m\n\u001b[0;32m----> 1\u001b[0;31m \u001b[0mx\u001b[0m \u001b[0;34m=\u001b[0m \u001b[0;34m[\u001b[0m\u001b[0mmin\u001b[0m\u001b[0;34m(\u001b[0m\u001b[0me\u001b[0m\u001b[0;34m.\u001b[0m\u001b[0mweight\u001b[0m\u001b[0;34m,\u001b[0m \u001b[0;36m100\u001b[0m\u001b[0;34m)\u001b[0m \u001b[0;32mfor\u001b[0m \u001b[0me\u001b[0m \u001b[0;32min\u001b[0m \u001b[0mg\u001b[0m\u001b[0;34m.\u001b[0m\u001b[0medges\u001b[0m\u001b[0;34m]\u001b[0m\u001b[0;34m\u001b[0m\u001b[0m\n\u001b[0m\u001b[1;32m      2\u001b[0m \u001b[0mnum_bins\u001b[0m \u001b[0;34m=\u001b[0m \u001b[0;36m25\u001b[0m\u001b[0;34m\u001b[0m\u001b[0m\n\u001b[1;32m      3\u001b[0m \u001b[0mn\u001b[0m\u001b[0;34m,\u001b[0m \u001b[0mbins\u001b[0m\u001b[0;34m,\u001b[0m \u001b[0mpatches\u001b[0m \u001b[0;34m=\u001b[0m \u001b[0mplt\u001b[0m\u001b[0;34m.\u001b[0m\u001b[0mhist\u001b[0m\u001b[0;34m(\u001b[0m\u001b[0mx\u001b[0m\u001b[0;34m,\u001b[0m \u001b[0mnum_bins\u001b[0m\u001b[0;34m,\u001b[0m \u001b[0mfacecolor\u001b[0m\u001b[0;34m=\u001b[0m\u001b[0;34m'blue'\u001b[0m\u001b[0;34m,\u001b[0m \u001b[0malpha\u001b[0m\u001b[0;34m=\u001b[0m\u001b[0;36m0.5\u001b[0m\u001b[0;34m)\u001b[0m\u001b[0;34m\u001b[0m\u001b[0m\n\u001b[1;32m      4\u001b[0m \u001b[0mplt\u001b[0m\u001b[0;34m.\u001b[0m\u001b[0mxlabel\u001b[0m\u001b[0;34m(\u001b[0m\u001b[0;34m\"edge weight\"\u001b[0m\u001b[0;34m)\u001b[0m\u001b[0;34m\u001b[0m\u001b[0m\n\u001b[1;32m      5\u001b[0m \u001b[0mplt\u001b[0m\u001b[0;34m.\u001b[0m\u001b[0mylabel\u001b[0m\u001b[0;34m(\u001b[0m\u001b[0;34m\"frequency\"\u001b[0m\u001b[0;34m)\u001b[0m\u001b[0;34m\u001b[0m\u001b[0m\n",
      "\u001b[0;32m<ipython-input-36-331e33991642>\u001b[0m in \u001b[0;36m<listcomp>\u001b[0;34m(.0)\u001b[0m\n\u001b[0;32m----> 1\u001b[0;31m \u001b[0mx\u001b[0m \u001b[0;34m=\u001b[0m \u001b[0;34m[\u001b[0m\u001b[0mmin\u001b[0m\u001b[0;34m(\u001b[0m\u001b[0me\u001b[0m\u001b[0;34m.\u001b[0m\u001b[0mweight\u001b[0m\u001b[0;34m,\u001b[0m \u001b[0;36m100\u001b[0m\u001b[0;34m)\u001b[0m \u001b[0;32mfor\u001b[0m \u001b[0me\u001b[0m \u001b[0;32min\u001b[0m \u001b[0mg\u001b[0m\u001b[0;34m.\u001b[0m\u001b[0medges\u001b[0m\u001b[0;34m]\u001b[0m\u001b[0;34m\u001b[0m\u001b[0m\n\u001b[0m\u001b[1;32m      2\u001b[0m \u001b[0mnum_bins\u001b[0m \u001b[0;34m=\u001b[0m \u001b[0;36m25\u001b[0m\u001b[0;34m\u001b[0m\u001b[0m\n\u001b[1;32m      3\u001b[0m \u001b[0mn\u001b[0m\u001b[0;34m,\u001b[0m \u001b[0mbins\u001b[0m\u001b[0;34m,\u001b[0m \u001b[0mpatches\u001b[0m \u001b[0;34m=\u001b[0m \u001b[0mplt\u001b[0m\u001b[0;34m.\u001b[0m\u001b[0mhist\u001b[0m\u001b[0;34m(\u001b[0m\u001b[0mx\u001b[0m\u001b[0;34m,\u001b[0m \u001b[0mnum_bins\u001b[0m\u001b[0;34m,\u001b[0m \u001b[0mfacecolor\u001b[0m\u001b[0;34m=\u001b[0m\u001b[0;34m'blue'\u001b[0m\u001b[0;34m,\u001b[0m \u001b[0malpha\u001b[0m\u001b[0;34m=\u001b[0m\u001b[0;36m0.5\u001b[0m\u001b[0;34m)\u001b[0m\u001b[0;34m\u001b[0m\u001b[0m\n\u001b[1;32m      4\u001b[0m \u001b[0mplt\u001b[0m\u001b[0;34m.\u001b[0m\u001b[0mxlabel\u001b[0m\u001b[0;34m(\u001b[0m\u001b[0;34m\"edge weight\"\u001b[0m\u001b[0;34m)\u001b[0m\u001b[0;34m\u001b[0m\u001b[0m\n\u001b[1;32m      5\u001b[0m \u001b[0mplt\u001b[0m\u001b[0;34m.\u001b[0m\u001b[0mylabel\u001b[0m\u001b[0;34m(\u001b[0m\u001b[0;34m\"frequency\"\u001b[0m\u001b[0;34m)\u001b[0m\u001b[0;34m\u001b[0m\u001b[0m\n",
      "\u001b[0;31mAttributeError\u001b[0m: 'tuple' object has no attribute 'weight'"
     ]
    }
   ],
   "source": [
    "x = [min(e.weight, 100) for e in g.edges]\n",
    "num_bins = 25\n",
    "n, bins, patches = plt.hist(x, num_bins, facecolor='blue', alpha=0.5)\n",
    "plt.xlabel(\"edge weight\")\n",
    "plt.ylabel(\"frequency\")\n",
    "plt.title(\"distribution of edge weights (capped at 100)\")\n",
    "plt.show()"
   ]
  },
  {
   "cell_type": "code",
   "execution_count": null,
   "metadata": {},
   "outputs": [],
   "source": []
  },
  {
   "cell_type": "code",
   "execution_count": 134,
   "metadata": {},
   "outputs": [
    {
     "name": "stdout",
     "output_type": "stream",
     "text": [
      "159731\n"
     ]
    }
   ],
   "source": [
    "edges_dict = {}\n",
    "for e in g.edges:\n",
    "    edges_dict[(e.src, e.dest)] = e.weight\n",
    "print(len(edges_dict))"
   ]
  },
  {
   "cell_type": "code",
   "execution_count": 135,
   "metadata": {},
   "outputs": [
    {
     "name": "stdout",
     "output_type": "stream",
     "text": [
      "156744\n"
     ]
    }
   ],
   "source": [
    "for k in list(edges_dict.keys()):\n",
    "    k1, k2 = k\n",
    "    if k in edges_dict and (k2,k1) in edges_dict:\n",
    "        w1, w2 = edges_dict[k], edges_dict[(k2, k1)]\n",
    "        if w1/w2 > 4:\n",
    "            del edges_dict[(k2, k1)]\n",
    "        elif w2/w1 > 4:\n",
    "            del edges_dict[k]\n",
    "print(len(edges_dict))"
   ]
  },
  {
   "cell_type": "code",
   "execution_count": 139,
   "metadata": {},
   "outputs": [
    {
     "name": "stdout",
     "output_type": "stream",
     "text": [
      "14225\n"
     ]
    }
   ],
   "source": [
    "for k in list(edges_dict.keys()):\n",
    "    if edges_dict[k] < 5:\n",
    "        del edges_dict[k]\n",
    "print(len(edges_dict))    "
   ]
  },
  {
   "cell_type": "code",
   "execution_count": 141,
   "metadata": {},
   "outputs": [
    {
     "name": "stdout",
     "output_type": "stream",
     "text": [
      "922\n"
     ]
    }
   ],
   "source": [
    "n = set()\n",
    "for k in list(edges_dict.keys()):\n",
    "    n.add(k[0])\n",
    "    n.add(k[1])\n",
    "print(len(n))"
   ]
  },
  {
   "cell_type": "code",
   "execution_count": 142,
   "metadata": {},
   "outputs": [
    {
     "data": {
      "text/plain": [
       "3625"
      ]
     },
     "execution_count": 142,
     "metadata": {},
     "output_type": "execute_result"
    }
   ],
   "source": [
    "len(g.nodes)"
   ]
  },
  {
   "cell_type": "code",
   "execution_count": 20,
   "metadata": {},
   "outputs": [
    {
     "data": {
      "text/plain": [
       "174"
      ]
     },
     "execution_count": 20,
     "metadata": {},
     "output_type": "execute_result"
    }
   ],
   "source": [
    "len(set([x.src for x in g.filterEdges(lambda e: e.weight > 30)]+[x.dest for x in g.filterEdges(lambda e: e.weight > 30)]))"
   ]
  },
  {
   "cell_type": "code",
   "execution_count": 57,
   "metadata": {},
   "outputs": [
    {
     "data": {
      "text/plain": [
       "34630"
      ]
     },
     "execution_count": 57,
     "metadata": {},
     "output_type": "execute_result"
    }
   ],
   "source": [
    "len(cog.filterEdges(lambda e: e.weight > 5))\n",
    "len(postg.filterEdges(lambda e: e.weight > 1))"
   ]
  },
  {
   "cell_type": "code",
   "execution_count": null,
   "metadata": {
    "collapsed": true
   },
   "outputs": [],
   "source": []
  }
 ],
 "metadata": {
  "kernelspec": {
   "display_name": "Python 3",
   "language": "python",
   "name": "python3"
  },
  "language_info": {
   "codemirror_mode": {
    "name": "ipython",
    "version": 3
   },
   "file_extension": ".py",
   "mimetype": "text/x-python",
   "name": "python",
   "nbconvert_exporter": "python",
   "pygments_lexer": "ipython3",
   "version": "3.6.0"
  }
 },
 "nbformat": 4,
 "nbformat_minor": 2
}
