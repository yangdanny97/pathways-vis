{
 "cells": [
  {
   "cell_type": "code",
   "execution_count": null,
   "metadata": {
    "collapsed": true
   },
   "outputs": [],
   "source": [
    "import numpy as np\n",
    "import pandas as pd\n",
    "import matplotlib.pyplot as plt\n",
    "from extract import Data\n",
    "import re\n",
    "import seaborn as sns\n",
    "from typing import Dict, List, Tuple, Any, Callable\n",
    "\n",
    "FILENAME = \"data/CIS_enrollment.csv\"\n",
    "ENCODING = \"iso-8859-1\"\n",
    "\n",
    "data = Data(FILENAME)\n",
    "raw  = pd.read_csv(FILENAME, encoding=ENCODING)"
   ]
  },
  {
   "cell_type": "code",
   "execution_count": null,
   "metadata": {},
   "outputs": [],
   "source": [
    "#code taken from Sam\n",
    "def get_students_in_major(major):\n",
    "    return dict(filter(lambda s: s[1].major == major, data.students.items()))\n",
    "\n",
    "def get_prop(course, major=\"\"):\n",
    "    if major == \"\":\n",
    "        students = data.students\n",
    "    else:\n",
    "        students = filter(lambda s: s[1].major == major, data.students.items())\n",
    "\n",
    "    return len(data.courses[course].students) / len(dict(students))\n",
    "\n",
    "course = \"CS1110\"\n",
    "major = \"Computer Science\"\n",
    "p = get_prop(course, major)\n",
    "print(f\"{p:.2%} of {major} majors take {course}\")"
   ]
  },
  {
   "cell_type": "code",
   "execution_count": null,
   "metadata": {
    "scrolled": true
   },
   "outputs": [],
   "source": [
    "def createCourseGraph(pattern, majorKeyword, major, core):\n",
    "    courses = list(filter(lambda c: re.match(pattern,c), data.courses.keys()))\n",
    "\n",
    "    y = [get_prop(course, major) for course in courses]\n",
    "\n",
    "    core = list(map(lambda n: majorKeyword + str(n), core))\n",
    "\n",
    "    color = lambda course: 'blue' if course in core else '#bbbbbb'\n",
    "\n",
    "    df = pd.DataFrame({\"Course\": courses, \"Proportion\":y})\n",
    "    df = df.sort_values(\"Proportion\", ascending=False).reset_index(drop=True)\n",
    "    df['Core'] = df.Course.map(color)\n",
    "    sub_df = df.loc[0:30]\n",
    "\n",
    "    fig, ax = plt.subplots(1,1, figsize=(6,6))\n",
    "    ax.barh(sub_df.Course, sub_df.Proportion, color=sub_df.Core)\n",
    "    ax.invert_yaxis()\n",
    "    plt.title(\"Proportion of {} Majors who take {} Classes\".format(majorKeyword, majorKeyword))\n",
    "    fig.show()\n",
    "    return df\n",
    "\n",
    "cs_core = [1110, 1112, 2110, 2800, 2802, 3110, 3410, 3420, 4410, 4820]\n",
    "csDF = createCourseGraph(re.compile(r\"^CS\\d{4}$\"), \"CS\", \"Computer Science\", cs_core)\n",
    "\n",
    "info_core = [1200, 1300, 2040, 2450, 2950]\n",
    "infoDF = createCourseGraph(re.compile(r\"^INFO\\d{4}$\"), \"INFO\", \"Information Science\", info_core)\n",
    "\n",
    "stsci_core = [2200,3200,3080,4030,4090,4520]\n",
    "stsciDF = createCourseGraph(re.compile(r\"^STSCI\\d{4}$\"),\"STSCI\",\"Statistical Science\",stsci_core)"
   ]
  },
  {
   "cell_type": "code",
   "execution_count": null,
   "metadata": {},
   "outputs": [],
   "source": [
    "print([\"CS\" + str(core) for core in cs_core])\n",
    "print([\"INFO\" + str(core) for core in info_core])\n",
    "print([\"STSCI\" + str(core) for core in stsci_core])"
   ]
  },
  {
   "cell_type": "code",
   "execution_count": null,
   "metadata": {
    "collapsed": true,
    "scrolled": true
   },
   "outputs": [],
   "source": [
    "#TODO: build a graph of most common nodes to build generic pathway\n",
    "def makeGraphTemplate(reqCourses:List[str]):\n",
    "    reqCourseGraph = {}\n",
    "    for course in reqCourses:\n",
    "        reqCourseGraph[course] = {}\n",
    "        for course2 in reqCourses:\n",
    "            reqCourseGraph[course][course2] = 0\n",
    "    return reqCourseGraph\n",
    "\n",
    "def makeGraph(classes:Dict[int,List[str]], reqCourseGraph:Dict[str,Dict[str,int]]):\n",
    "    prevClasses = []\n",
    "    for term, termCourses in classes.items():\n",
    "        for currCourse in termCourses:\n",
    "            for prevClass in prevClasses:\n",
    "                reqCourseGraph[prevClass][currCourse] += 1\n",
    "        prevClasses = termCourses\n",
    "    return reqCourseGraph\n",
    "\n",
    "def makeGraphForMajor(requiredCourses:List[str], major:str):\n",
    "    reqCourseGraph = makeGraphTemplate(requiredCourses)\n",
    "    students = get_students_in_major(major).values()\n",
    "    for i,student in enumerate(students):\n",
    "        classes = student.term_numbers\n",
    "        termToClass = {i:[] for i in range(1,13)}\n",
    "        for classTaken, term in classes.items():\n",
    "            #get all important classes\n",
    "            if classTaken in requiredCourses:\n",
    "                termToClass[term].append(classTaken)\n",
    "        reqCourseGraph = makeGraph(termToClass, reqCourseGraph)\n",
    "    return reqCourseGraph"
   ]
  },
  {
   "cell_type": "code",
   "execution_count": null,
   "metadata": {
    "collapsed": true
   },
   "outputs": [],
   "source": [
    "def makeNodes(graph):\n",
    "    nodes = []\n",
    "    for key in graph.keys():\n",
    "        nodeToAdd = {\"id\":key}\n",
    "        for letter in key:\n",
    "            if letter.isdigit():\n",
    "                nodeToAdd[\"term\"] = letter\n",
    "                break\n",
    "        nodes.append(nodeToAdd)\n",
    "    return nodes\n",
    "\n",
    "def makeLinks(graph, threshold):\n",
    "    links = []\n",
    "    for sourceClass, targetClasses in graph.items():\n",
    "        maxValue = max(targetClasses.values())\n",
    "        for targetClass, count in targetClasses.items():\n",
    "            if count / maxValue >= threshold:\n",
    "                links.append({\"source\":sourceClass, \"target\":targetClass})\n",
    "    return links\n",
    "\n",
    "def makeNodesLinks(graph):\n",
    "    nodes = makeNodes(graph)\n",
    "    links = makeLinks(graph, 1)\n",
    "    return(nodes,links)\n",
    "    \n",
    "def makeNodesLinksPerc(graph, threshold):\n",
    "    nodes = makeNodes(graph)\n",
    "    links = makeLinks(graph, threshold)\n",
    "    return(nodes,links)\n",
    "    \n",
    "def makeNodesLinksPercDF(graph, threshold):\n",
    "    source = []\n",
    "    target = []\n",
    "    for sourceClass, targetClasses in graph.items():\n",
    "        maxValue = max(targetClasses.values())\n",
    "        for targetClass, count in targetClasses.items():\n",
    "            if count / maxValue > threshold:\n",
    "                source.append(sourceClass)\n",
    "                target.append(targetClass)\n",
    "    return pd.DataFrame({\"from\":source,\"to\":target})"
   ]
  },
  {
   "cell_type": "code",
   "execution_count": null,
   "metadata": {
    "scrolled": true
   },
   "outputs": [],
   "source": [
    "csReqCourses = list(csDF.drop(\"Core\",axis=1)[:10][\"Course\"])\n",
    "infoReqCourses = list(infoDF.drop(\"Core\",axis=1)[:10][\"Course\"])\n",
    "stsciReqCourses = list(stsciDF.drop(\"Core\",axis=1)[:10][\"Course\"])\n",
    "csGraph = makeGraphForMajor(csReqCourses, \"Computer Science\")\n",
    "infoGraph = makeGraphForMajor(infoReqCourses, \"Information Science\")\n",
    "stsciGraph = makeGraphForMajor(stsciReqCourses, \"Statistical Science\")\n",
    "# print(makeNodesLinks(csGraph))\n",
    "print(makeNodesLinksPerc(csGraph, 0.75))\n",
    "# print(makeNodesLinks(infoGraph))\n",
    "print(makeNodesLinksPerc(infoGraph, 0.75))\n",
    "# print(makeNodesLinks(stsciGraph))\n",
    "print(makeNodesLinksPerc(stsciGraph, 0.75))"
   ]
  },
  {
   "cell_type": "markdown",
   "metadata": {},
   "source": [
    "# Using Danny's Graph"
   ]
  },
  {
   "cell_type": "code",
   "execution_count": null,
   "metadata": {
    "collapsed": true
   },
   "outputs": [],
   "source": [
    "#using Danny's thing\n",
    "import graph"
   ]
  },
  {
   "cell_type": "code",
   "execution_count": null,
   "metadata": {
    "collapsed": true
   },
   "outputs": [],
   "source": [
    "def uniqueList(edges):\n",
    "    valueSet = set()\n",
    "    result = []\n",
    "    for e in edges:\n",
    "        if e[2] not in valueSet:\n",
    "            result.append(e)\n",
    "            valueSet.add(e[2])\n",
    "    return result\n",
    "\n",
    "def makeGraph2(reqCourses, major, g):\n",
    "    edges = []\n",
    "    maxValue = 0\n",
    "    for cname1 in reqCourses:\n",
    "        for cname2 in reqCourses:\n",
    "            if cname2 == cname1:\n",
    "                continue\n",
    "            course = data.courses[cname1]\n",
    "            nextCount, sameCount = 0, 0\n",
    "            for s in course.students:\n",
    "                if s.major != major:\n",
    "                    continue\n",
    "                if cname2 in s.term_numbers and s.term_numbers[cname2] == s.term_numbers[cname1] + 1:\n",
    "                    nextCount += 1\n",
    "                elif cname2 in s.term_numbers and s.term_numbers[cname2] == s.term_numbers[cname1]:\n",
    "                    sameCount += 1\n",
    "            if nextCount > sameCount:\n",
    "                edges.append([cname1, cname2, nextCount])\n",
    "                if nextCount > maxValue: maxValue = nextCount\n",
    "            else:\n",
    "                edges.append([cname1, cname2, sameCount])\n",
    "                if sameCount > maxValue: maxValue = sameCount\n",
    "    \n",
    "    edges = list(sorted(edges, key = lambda x: x[2], reverse=True))\n",
    "    edges = uniqueList(edges)[:10]\n",
    "    for edge in edges:\n",
    "        cname1 = edge[0]\n",
    "        cname2 = edge[1]\n",
    "        count = edge[2]\n",
    "        g.addEdge(cname1, cname2, count)\n",
    "    \n",
    "    return (g,maxValue)\n",
    "\n",
    "def displayGraph(graph, threshold):\n",
    "    print(\"DISPLAYING . . .\")\n",
    "    for e in graph.filterEdges(lambda e: e.weight > threshold):\n",
    "        print(str(e))"
   ]
  },
  {
   "cell_type": "code",
   "execution_count": null,
   "metadata": {
    "scrolled": true
   },
   "outputs": [],
   "source": [
    "csGraph = graph.Graph()\n",
    "infoGraph = graph.Graph()\n",
    "statsGraph = graph.Graph()\n",
    "csGraph,maxCS = makeGraph2(csReqCourses, \"Computer Science\", csGraph)\n",
    "infoGraph,maxINFO = makeGraph2(infoReqCourses, \"Information Science\", infoGraph)\n",
    "stsciGraph,maxSTATS = makeGraph2(stsciReqCourses, \"Statistical Science\", statsGraph)\n",
    "\n",
    "displayGraph(csGraph, 0)\n",
    "displayGraph(infoGraph, 0)\n",
    "displayGraph(stsciGraph, 0)"
   ]
  },
  {
   "cell_type": "code",
   "execution_count": null,
   "metadata": {},
   "outputs": [],
   "source": [
    "csGraph.export_graph(\"data/CS_req_test\", 0)\n",
    "infoGraph.export_graph(\"data/INFO_req_test\", 0)\n",
    "stsciGraph.export_graph(\"data/stsci_req_test\", 0)"
   ]
  },
  {
   "cell_type": "code",
   "execution_count": null,
   "metadata": {},
   "outputs": [],
   "source": [
    "csGraph.export_json(\"data/cs_req\", 0)\n",
    "infoGraph.export_json(\"data/is_req\", 0)\n",
    "stsciGraph.export_json(\"data/stsci_req\", 0)"
   ]
  }
 ],
 "metadata": {
  "kernelspec": {
   "display_name": "Python 3",
   "language": "python",
   "name": "python3"
  },
  "language_info": {
   "codemirror_mode": {
    "name": "ipython",
    "version": 3
   },
   "file_extension": ".py",
   "mimetype": "text/x-python",
   "name": "python",
   "nbconvert_exporter": "python",
   "pygments_lexer": "ipython3",
   "version": "3.6.0"
  }
 },
 "nbformat": 4,
 "nbformat_minor": 2
}
