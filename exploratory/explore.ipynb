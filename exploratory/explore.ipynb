{
 "cells": [
  {
   "cell_type": "code",
   "execution_count": null,
   "metadata": {},
   "outputs": [],
   "source": [
    "# Change directory to VSCode workspace root so that relative path loads work correctly. Turn this addition off with the DataScience.changeDirOnImportExport setting\n",
    "# ms-python.python added\n",
    "import os\n",
    "try:\n",
    "\tos.chdir(os.path.join(os.getcwd(), '..'))\n",
    "\tprint(os.getcwd())\n",
    "except:\n",
    "\tpass\n"
   ]
  },
  {
   "cell_type": "markdown",
   "metadata": {},
   "source": [
    " # Exploratory Analysis\n",
    " We'll be exploring the CIS enrollment data to find patterns and see what\n",
    " information we can resolve. Danny wrote a handy data structure for the data\n",
    " that we're going to try here."
   ]
  },
  {
   "cell_type": "code",
   "execution_count": null,
   "metadata": {
    "collapsed": true
   },
   "outputs": [],
   "source": [
    "import numpy as np\n",
    "import pandas as pd\n",
    "import matplotlib.pyplot as plt\n",
    "from extract import Data\n",
    "import re\n",
    "import seaborn as sns\n",
    "\n",
    "FILENAME = \"data/CIS_enrollment.csv\"\n",
    "ENCODING = \"iso-8859-1\"\n",
    "\n",
    "data = Data(FILENAME)\n",
    "raw  = pd.read_csv(FILENAME, encoding=ENCODING)\n"
   ]
  },
  {
   "cell_type": "markdown",
   "metadata": {},
   "source": [
    " # Pre-processing\n",
    " One challenge we're going to run into is that the course data makes no\n",
    " distinction among lectures and discussion blocks. We can see three cases:\n",
    "\n",
    " * Lecture with discussion - we should remove the discussion\n",
    " * Lecture without discussion - this is fine\n",
    " * Discussion with no lecture - we need to retain these records\n",
    "\n",
    " This presents a pretty significant challenge to a filtering procedure that\n",
    " we'd like to develop."
   ]
  },
  {
   "cell_type": "markdown",
   "metadata": {},
   "source": [
    " It would be really useful to be able to identify core classes for a major. One\n",
    " way to do that would be to identify what percentage of students who declare a\n",
    " major have taken that class. Let's see how that works out."
   ]
  },
  {
   "cell_type": "code",
   "execution_count": null,
   "metadata": {},
   "outputs": [],
   "source": [
    "def get_students_in_major(major):\n",
    "    return dict(filter(lambda s: s[1].major == major, data.students.items()))\n",
    "\n",
    "def get_prop(course, major=\"\"):\n",
    "    if major == \"\":\n",
    "        students = data.students\n",
    "    else:\n",
    "        students = filter(lambda s: s[1].major == major, data.students.items())\n",
    "\n",
    "    return len(data.courses[course].students) / len(dict(students))\n",
    "\n",
    "course = \"CS1110\"\n",
    "major = \"Computer Science\"\n",
    "p = get_prop(course, major)\n",
    "print(f\"{p:.2%} of {major} majors take {course}\")\n"
   ]
  },
  {
   "cell_type": "code",
   "execution_count": null,
   "metadata": {},
   "outputs": [],
   "source": [
    "pattern = re.compile(r\"^INFO\\d{4}$\")\n",
    "info_courses = list(filter(lambda c: re.match(pattern,c), data.courses.keys()))\n",
    "\n",
    "courses = [1110, 2110, 2112, 2800, 3110, 3410, 3420, 4410, 4820, 4620, 4780]\n",
    "courses = [f\"INFO{n}\" for n in courses]\n",
    "major = \"Information Science\"\n",
    "\n",
    "y = [get_prop(course, major) for course in courses]\n",
    "\n",
    "df = pd.DataFrame({\"Course\": info_courses, \"Proportion\":y})\n",
    "df = df.sort_values(\"Proportion\", ascending=False).reset_index(drop=True)\n",
    "df['Core'] = df.Course.map(color);\n",
    "sub_df = df.loc[0:30]\n",
    "\n",
    "fig, ax = plt.subplots(1,1, figsize=(6,6))\n",
    "ax.barh(sub_df.Course, sub_df.Proportion, color=sub_df.Core)\n",
    "ax.invert_yaxis()\n",
    "plt.title(\"Proportion of IS Majors who take IS Classes\")\n",
    "fig.show()"
   ]
  },
  {
   "cell_type": "code",
   "execution_count": null,
   "metadata": {},
   "outputs": [],
   "source": [
    "courses = [1110, 1112, 2110, 2112, 2800, 3110, 3410, 3420, 4410, 4820, 4620, 4780]\n",
    "courses = [f\"CS{n}\" for n in courses]\n",
    "major = \"Computer Science\"\n",
    "\n",
    "y = [get_prop(course, major) for course in courses]\n",
    "plt.xticks(range(len(courses)), courses, rotation='vertical')\n",
    "plt.bar(courses, y)\n"
   ]
  },
  {
   "cell_type": "markdown",
   "metadata": {},
   "source": [
    " Now let's try that with *every* CS class and see what the distribution is."
   ]
  },
  {
   "cell_type": "code",
   "execution_count": null,
   "metadata": {},
   "outputs": [],
   "source": [
    "pattern = re.compile(r\"^CS\\d{4}$\")\n",
    "cs_courses = list(filter(lambda c: re.match(pattern, c), data.courses.keys()))\n",
    "\n",
    "y = [get_prop(course, major) for course in cs_courses]\n",
    "sns.kdeplot(y, shade=True)\n"
   ]
  },
  {
   "cell_type": "markdown",
   "metadata": {},
   "source": [
    " Let's see what some of those top classes are."
   ]
  },
  {
   "cell_type": "code",
   "execution_count": null,
   "metadata": {},
   "outputs": [],
   "source": [
    "cs_core = [1110, 1112, 2110, 2800, 2802, 3110, 3410, 3420, 4410, 4820]\n",
    "cs_core = list(map(lambda n: f\"CS{n}\", cs_core))\n",
    "\n",
    "color = lambda course: 'blue' if course in cs_core else '#bbbbbb'\n",
    "\n",
    "df = pd.DataFrame({\"Course\": cs_courses, \"Proportion\":y})\n",
    "df = df.sort_values(\"Proportion\", ascending=False).reset_index(drop=True)\n",
    "df['Core'] = df.Course.map(color)\n",
    "sub_df = df.loc[0:30]\n",
    "\n",
    "fig, ax = plt.subplots(1,1, figsize=(6,6))\n",
    "ax.barh(sub_df.Course, sub_df.Proportion, color=sub_df.Core)\n",
    "ax.invert_yaxis()\n",
    "plt.title(\"Proportion of CS Majors who take CS Classes\")\n",
    "fig.show()\n"
   ]
  },
  {
   "cell_type": "markdown",
   "metadata": {},
   "source": [
    " We can immediately see that the 5 core courses plus the two introductory\n",
    " courses have the highest attendance from CS majors. But we can also see some\n",
    " other looming challenges.\n",
    "\n",
    " ## Honors Classes\n",
    " A number of important CS courses have honors options, including 1110, 2110,\n",
    " and now 2802, which are some of the most popular courses. If we could reliably\n",
    " aggregate these together, it would probably move those courses further up.\n",
    " More importantly though, we need to think about how to visualize pathways\n",
    " where an honors class might be an equally viable option.\n",
    "\n",
    " ## Complements\n",
    " This is less of an issue, as it's essentially a specification of the central\n",
    " problem we're trying to solve with this project. CS 3420 (embedded systems)\n",
    " can substitute for 3410 in the CS core, but it's a lot less popular and\n",
    " doesn't seem to have the trappings of a \"core class\". This is only really an\n",
    " issue to the extent that we want to literally show users what the core major\n",
    " courses based on the data we have access to."
   ]
  },
  {
   "cell_type": "markdown",
   "metadata": {},
   "source": [
    " I'm going to take a quick detour here to demo the\n",
    "\n",
    " ## Courses of Study API\n",
    " This is a bit rocky, since virtually the only useful endpoint the API provides\n",
    " is the `search/classes` endpoint, which requires you to enter all the\n",
    " parameters of your course (except the number of the course, which isn't an\n",
    " allowed search term) and then find the course you want in the results. This is\n",
    " really annoying but if you abstract it away it's useful enough that I can get\n",
    " over it. Here's a demo."
   ]
  },
  {
   "cell_type": "code",
   "execution_count": null,
   "metadata": {},
   "outputs": [],
   "source": [
    "import urllib.request\n",
    "import json\n",
    "recent_semesters = ['FA19']#, 'SP19']\n",
    "\n",
    "def get_info(course):\n",
    "    dept = course[:-4]\n",
    "    num  = course[-4:]\n",
    "    for semester in recent_semesters:\n",
    "        url = f\"https://classes.cornell.edu/api/2.0/search/classes.json?roster={semester}&subject={dept}\"\n",
    "        response = urllib.request.urlopen(url)\n",
    "        data = json.load(response)\n",
    "\n",
    "        if data['status'] != 'success':\n",
    "            continue\n",
    "\n",
    "        for course in data['data']['classes']:\n",
    "            if course['catalogNbr'] == num:\n",
    "                return course\n",
    "\n",
    "    else:\n",
    "        raise ValueError(\"Course number does not exist\")\n",
    "\n",
    "    #return class_dat\n",
    "\n",
    "d = get_info(\"CS4780\")\n",
    "print(json.dumps(d, indent=2))\n"
   ]
  },
  {
   "cell_type": "markdown",
   "metadata": {},
   "source": [
    " Nice! This gives us way more information than we could ever possibly want.\n",
    " Some useful keys to this json file:\n",
    "\n",
    " - `titleLong`: The full name of the course\n",
    " - `titleShort`: An abbreviation of the course title\n",
    " - `description`: The full text course description\n",
    " - `catalogPrereqCoreq`: Text describing prerequisites. Still in a string\n",
    "   that's hard to parse but nevertheless present.\n",
    " - `catalogWhenOffered`: Pretty useful if you're trying to segment a pathway\n",
    "   into specific semesters.\n",
    " - `enrollGroups/n/unitsMinimum`: The number of credits the course counts for\n",
    "\n",
    " There's not really any actual documentation, much less models for this API so\n",
    " most of this is inferred. In any case, it's a good way to get some basic\n",
    " course info so we don't have to send anyone away from the site. I don't know\n",
    " what response times look like (i.e. whether we can or should load this\n",
    " dynamically) but I can see this being useful in a hover or a preview box."
   ]
  },
  {
   "cell_type": "code",
   "execution_count": null,
   "metadata": {},
   "outputs": [],
   "source": [
    "from IPython.display import display, Markdown\n",
    "from ipywidgets import widgets\n",
    "\n",
    "text = widgets.Text()\n",
    "display(text)\n",
    "\n",
    "\n",
    "def show(course):\n",
    "    course = course.value\n",
    "\n",
    "    d = get_info(course)\n",
    "\n",
    "    txt = [\n",
    "        f\"# {course}: {d['titleLong']} ({d['enrollGroups'][0]['unitsMinimum']})\\n\\n\",\n",
    "        f\"{d['description']}\\n\\n\"\n",
    "        f\"**Offered in the** {d['catalogWhenOffered']}\"\n",
    "    ]\n",
    "\n",
    "    display(Markdown(\"\".join(txt)))\n",
    "\n",
    "\n",
    "text.on_submit(show)\n"
   ]
  },
  {
   "cell_type": "code",
   "execution_count": null,
   "metadata": {
    "collapsed": true
   },
   "outputs": [],
   "source": []
  }
 ],
 "metadata": {
  "file_extension": ".py",
  "kernelspec": {
   "display_name": "Python 3",
   "language": "python",
   "name": "python3"
  },
  "language_info": {
   "codemirror_mode": {
    "name": "ipython",
    "version": 3
   },
   "file_extension": ".py",
   "mimetype": "text/x-python",
   "name": "python",
   "nbconvert_exporter": "python",
   "pygments_lexer": "ipython3",
   "version": "3.6.0"
  },
  "mimetype": "text/x-python",
  "name": "python",
  "npconvert_exporter": "python",
  "pygments_lexer": "ipython3",
  "version": 3
 },
 "nbformat": 4,
 "nbformat_minor": 2
}
